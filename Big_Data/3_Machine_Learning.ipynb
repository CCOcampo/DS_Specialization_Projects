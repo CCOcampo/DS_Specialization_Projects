{
  "cells": [
    {
      "cell_type": "code",
      "execution_count": 1,
      "metadata": {
        "id": "Z7rbDx_-JApm",
        "colab": {
          "base_uri": "https://localhost:8080/"
        },
        "outputId": "37d5efd7-fc87-4d05-848e-96cf08b633d6"
      },
      "outputs": [
        {
          "output_type": "stream",
          "name": "stdout",
          "text": [
            "replicating local resources\n"
          ]
        }
      ],
      "source": [
        "!wget --no-cache -O init.py -q https://raw.githubusercontent.com/UDEA-Esp-Analitica-y-Ciencia-de-Datos/EACD-03-BIGDATA/master/init.py\n",
        "import init; init.init(force_download=False);\n",
        "from IPython.display import Image"
      ]
    },
    {
      "cell_type": "code",
      "execution_count": 2,
      "metadata": {
        "id": "hDzn_xcpJRWR",
        "colab": {
          "base_uri": "https://localhost:8080/",
          "height": 251
        },
        "outputId": "788fc2d1-73db-49d8-afe2-f3ecf7c911be"
      },
      "outputs": [
        {
          "output_type": "execute_result",
          "data": {
            "image/png": "[encoded data removed]",
            "text/plain": [
              "<IPython.core.display.Image object>"
            ]
          },
          "metadata": {},
          "execution_count": 2
        }
      ],
      "source": [
        "Image(\"local/imgs/udea-datascience.png\")"
      ]
    },
    {
      "cell_type": "markdown",
      "metadata": {
        "id": "myHD-jFLKEal"
      },
      "source": [
        "# **TALLER 3: Machine Learning**\n",
        "## Desarrollado por: Mg. Efraín Alberto Oviedo\n",
        "## Universidad de Antioquia"
      ]
    },
    {
      "cell_type": "markdown",
      "metadata": {
        "id": "4GK6iJ1CKS8o"
      },
      "source": [
        "\n",
        "\n",
        "**Nombre Completo:**\n",
        "- Maria Isabel Duque Buitrago\n",
        "- Cristhian Camilo Ocampo Bolivar\n",
        "- Leidy Estefanía Silva Torres\n",
        "\n",
        "**Cédula:**\n",
        "- 1.037.666.575\n",
        "- 1.152.220.729\n",
        "- 1.020.479.068\n",
        "\n",
        "\n",
        "**Correo Institucional:**\n",
        "- maria.duqueb@udea.edu.co\n",
        "- cristhian.ocampo@udea.edu.co\n",
        "- estefania.silva@udea.edu.co"
      ]
    },
    {
      "cell_type": "markdown",
      "metadata": {
        "id": "UlYY1g0lKhz_"
      },
      "source": [
        "#**Análisis de pacientes de hospital de Envigado**\n",
        "\n",
        "El archivo poblacion_atendida.csv contiene información sobre los pacientes atendidos en un Hospital en Envigado. Para cada paciente se tiene la siguiente información:\n",
        "\n",
        "* SEXO\n",
        "* ESTADO_CIVIL\n",
        "* ZONA_RES\n",
        "* MUN_RES\n",
        "* PAIS_NCTO\n",
        "* EDAD\n",
        "* ESCOLARIDAD_PACIENTE\n",
        "\n",
        "Fuente de los datos: https://www.datos.gov.co/Salud-y-Protecci-n-Social/Poblaci-n-Atendida-a-o-2020/4ike-xz34\n",
        "\n",
        "\n",
        "Se solicita de su ayuda para realizar las siguientes actividades:"
      ]
    },
    {
      "cell_type": "code",
      "source": [
        "#Instalación\n",
        "!apt-get install openjdk-11-jdk-headless -qq > /dev/null\n",
        "!wget -q http://archive.apache.org/dist/spark/spark-3.5.5/spark-3.5.5-bin-hadoop3.tgz\n",
        "!tar xf spark-3.5.5-bin-hadoop3.tgz\n",
        "!pip install -q findspark\n",
        "\n",
        "#Variables de Entorno\n",
        "import os\n",
        "os.environ[\"JAVA_HOME\"] = \"/usr/lib/jvm/java-11-openjdk-amd64\"\n",
        "os.environ[\"SPARK_HOME\"] = \"/content/spark-3.5.5-bin-hadoop3\"\n",
        "\n",
        "#SparkContext\n",
        "import findspark\n",
        "findspark.init()\n",
        "from pyspark.sql import SparkSession\n",
        "from pyspark import SparkContext\n",
        "spark = SparkSession.builder.master(\"local[*]\").getOrCreate()\n",
        "sc = SparkContext.getOrCreate()"
      ],
      "metadata": {
        "id": "DO0RkwYsgIDK"
      },
      "execution_count": 3,
      "outputs": []
    },
    {
      "cell_type": "code",
      "source": [
        "#SQL Context\n",
        "from pyspark.sql import SQLContext\n",
        "from pyspark.sql import functions\n",
        "from pyspark.sql.types import *\n",
        "sqlCtx = SQLContext(sc)\n",
        "\n",
        "#Pandas\n",
        "\n",
        "import pandas as pd\n"
      ],
      "metadata": {
        "colab": {
          "base_uri": "https://localhost:8080/"
        },
        "id": "P374J9eMgQX5",
        "outputId": "752763f1-a2b9-43a6-f8d4-9c26d38b739d"
      },
      "execution_count": 4,
      "outputs": [
        {
          "output_type": "stream",
          "name": "stderr",
          "text": [
            "/content/spark-3.5.5-bin-hadoop3/python/pyspark/sql/context.py:113: FutureWarning: Deprecated in 3.0.0. Use SparkSession.builder.getOrCreate() instead.\n",
            "  warnings.warn(\n"
          ]
        }
      ]
    },
    {
      "cell_type": "markdown",
      "metadata": {
        "id": "GAyH6mgGK3VA"
      },
      "source": [
        "##**A) Preparación de datos**\n",
        "\n",
        "Revise cada una de las variables disponibles y realice la respectiva prepración de datos antes de proceder a crear los modelos de Machine Learning\n"
      ]
    },
    {
      "cell_type": "markdown",
      "metadata": {
        "id": "F-njqbnTM2To"
      },
      "source": [
        "Presente aquí el código desarrollado y el resultado obtenido"
      ]
    },
    {
      "cell_type": "code",
      "source": [
        "pacientesDF = sqlCtx.read.option(\"header\",True) \\\n",
        "      .option(\"delimiter\",\";\") \\\n",
        "     .csv(\"/content/local/data/poblacion_atendida.csv\")\n",
        "pacientesDF.show(5)"
      ],
      "metadata": {
        "colab": {
          "base_uri": "https://localhost:8080/"
        },
        "id": "zjRNZvQNixPi",
        "outputId": "ba189aec-9534-42aa-819e-6c77a97274c1"
      },
      "execution_count": 5,
      "outputs": [
        {
          "output_type": "stream",
          "name": "stdout",
          "text": [
            "+--------+---------+---------------+--------+---------------+---------+----+--------------------+\n",
            "|ID_UNICO|     SEXO|   ESTADO_CIVIL|ZONA_RES|        MUN_RES|PAIS_NCTO|EDAD|ESCOLARIDAD_PACIENTE|\n",
            "+--------+---------+---------------+--------+---------------+---------+----+--------------------+\n",
            "|  676901|MASCULINO|     SOLTERO(A)|  URBANA|  ZONA BANANERA| COLOMBIA|  54|   BASICA SECUNDARIA|\n",
            "|  676949|MASCULINO|    UNION LIBRE|  URBANA|       MEDELLIN| COLOMBIA|  27|     SIN INFORMACION|\n",
            "|  676948|MASCULINO|SIN INFORMACION|  URBANA|SIN INFORMACION| COLOMBIA|   0|     SIN INFORMACION|\n",
            "|  635991| FEMENINO|SIN INFORMACION|  URBANA|         ITAGUI| COLOMBIA|   0|     SIN INFORMACION|\n",
            "|  676947| FEMENINO|     SOLTERO(A)|  URBANA|         ITAGUI| COLOMBIA|  24|   BASICA SECUNDARIA|\n",
            "+--------+---------+---------------+--------+---------------+---------+----+--------------------+\n",
            "only showing top 5 rows\n",
            "\n"
          ]
        }
      ]
    },
    {
      "cell_type": "code",
      "source": [
        "pacientesDF.printSchema()"
      ],
      "metadata": {
        "colab": {
          "base_uri": "https://localhost:8080/"
        },
        "id": "na_a4bIaigJ6",
        "outputId": "01995b85-3e57-4109-da69-aa873912f132"
      },
      "execution_count": 6,
      "outputs": [
        {
          "output_type": "stream",
          "name": "stdout",
          "text": [
            "root\n",
            " |-- ID_UNICO: string (nullable = true)\n",
            " |-- SEXO: string (nullable = true)\n",
            " |-- ESTADO_CIVIL: string (nullable = true)\n",
            " |-- ZONA_RES: string (nullable = true)\n",
            " |-- MUN_RES: string (nullable = true)\n",
            " |-- PAIS_NCTO: string (nullable = true)\n",
            " |-- EDAD: string (nullable = true)\n",
            " |-- ESCOLARIDAD_PACIENTE: string (nullable = true)\n",
            "\n"
          ]
        }
      ]
    },
    {
      "cell_type": "markdown",
      "source": [
        "Con el objetivo de disminuir el número de cateogrias asociadas al estado civil, se decide establecer los registros con UNION LIBRE  como CASADO(A), SEPARADO y SIN INFORMACION por SOLTERO(A). Lo anterior implica que las categorias asociadas a la variable estado civil sean: **SOLTERO(A), CASADO(A) Y VIUDO(A).**"
      ],
      "metadata": {
        "id": "oBvIav4CKjyB"
      }
    },
    {
      "cell_type": "code",
      "source": [
        "pacientesDF = pacientesDF.withColumn(\"ESTADO_CIVIL\", functions.when(pacientesDF[\"ESTADO_CIVIL\"] == \"SIN INFORMACION\", \"SOLTERO(A)\").otherwise(pacientesDF[\"ESTADO_CIVIL\"]))\n",
        "pacientesDF = pacientesDF.withColumn(\"ESTADO_CIVIL\", functions.when(pacientesDF[\"ESTADO_CIVIL\"] == \"UNION LIBRE\", \"CASADO(A)\").otherwise(pacientesDF[\"ESTADO_CIVIL\"]))\n",
        "pacientesDF = pacientesDF.withColumn(\"ESTADO_CIVIL\", functions.when(pacientesDF[\"ESTADO_CIVIL\"] == \"SEPARADO\", \"SOLTERO(A)\").otherwise(pacientesDF[\"ESTADO_CIVIL\"]))\n",
        "pacientesDF.show(5)"
      ],
      "metadata": {
        "colab": {
          "base_uri": "https://localhost:8080/"
        },
        "id": "qByXoFxvjzbR",
        "outputId": "02c85ee5-64f7-4c90-ab51-6aff66a6a0c0"
      },
      "execution_count": 7,
      "outputs": [
        {
          "output_type": "stream",
          "name": "stdout",
          "text": [
            "+--------+---------+------------+--------+---------------+---------+----+--------------------+\n",
            "|ID_UNICO|     SEXO|ESTADO_CIVIL|ZONA_RES|        MUN_RES|PAIS_NCTO|EDAD|ESCOLARIDAD_PACIENTE|\n",
            "+--------+---------+------------+--------+---------------+---------+----+--------------------+\n",
            "|  676901|MASCULINO|  SOLTERO(A)|  URBANA|  ZONA BANANERA| COLOMBIA|  54|   BASICA SECUNDARIA|\n",
            "|  676949|MASCULINO|   CASADO(A)|  URBANA|       MEDELLIN| COLOMBIA|  27|     SIN INFORMACION|\n",
            "|  676948|MASCULINO|  SOLTERO(A)|  URBANA|SIN INFORMACION| COLOMBIA|   0|     SIN INFORMACION|\n",
            "|  635991| FEMENINO|  SOLTERO(A)|  URBANA|         ITAGUI| COLOMBIA|   0|     SIN INFORMACION|\n",
            "|  676947| FEMENINO|  SOLTERO(A)|  URBANA|         ITAGUI| COLOMBIA|  24|   BASICA SECUNDARIA|\n",
            "+--------+---------+------------+--------+---------------+---------+----+--------------------+\n",
            "only showing top 5 rows\n",
            "\n"
          ]
        }
      ]
    },
    {
      "cell_type": "markdown",
      "source": [
        "De igual manera, se decidio tener solo cinco categorias en la ESCOLARIDAD DEL PACIENTE, siendo estas **PREESCOLAR, BASICA, MEDIA, SUPERIOR y SIN INFORMACION**. Dentro de la categoria BASICA se encuentran los registros con escolaridad BASICA PRIMARIA y BASICA SECUNDARIA; en la categoria MEDIA se incluyen los registros para MEDIA ACADEMICA O CLASICA, MEDIA TECNICA (BACHILLERATO T) y NORMALISTA, por ultimo dentro de la categoria SUPERIOR se encuentran los registros correspondientes TECNICA PROFESIONAL, TECNOLOGICA, PROFESIONAL, DOCTORADO, ESPECIALIZACION Y MAESTRIA."
      ],
      "metadata": {
        "id": "wQwflTH7LOWq"
      }
    },
    {
      "cell_type": "code",
      "source": [
        "pacientesDF = pacientesDF.withColumn(\"ESCOLARIDAD_PACIENTE\", functions.when(pacientesDF[\"ESCOLARIDAD_PACIENTE\"] == \"BASICA PRIMARIA\", \"BASICA\").otherwise(pacientesDF[\"ESCOLARIDAD_PACIENTE\"]))\n",
        "pacientesDF = pacientesDF.withColumn(\"ESCOLARIDAD_PACIENTE\", functions.when(pacientesDF[\"ESCOLARIDAD_PACIENTE\"] == \"BASICA SECUNDARIA\", \"BASICA\").otherwise(pacientesDF[\"ESCOLARIDAD_PACIENTE\"]))\n",
        "pacientesDF = pacientesDF.withColumn(\"ESCOLARIDAD_PACIENTE\", functions.when(pacientesDF[\"ESCOLARIDAD_PACIENTE\"] == \"MEDIA ACADEMICA O CLASICA\", \"MEDIA\").otherwise(pacientesDF[\"ESCOLARIDAD_PACIENTE\"]))\n",
        "pacientesDF = pacientesDF.withColumn(\"ESCOLARIDAD_PACIENTE\", functions.when(pacientesDF[\"ESCOLARIDAD_PACIENTE\"] == \"MEDIA TECNICA (BACHILLERATO T)\", \"MEDIA\").otherwise(pacientesDF[\"ESCOLARIDAD_PACIENTE\"]))\n",
        "pacientesDF = pacientesDF.withColumn(\"ESCOLARIDAD_PACIENTE\", functions.when(pacientesDF[\"ESCOLARIDAD_PACIENTE\"] == \"NORMALISTA\", \"MEDIA\").otherwise(pacientesDF[\"ESCOLARIDAD_PACIENTE\"]))\n",
        "pacientesDF = pacientesDF.withColumn(\"ESCOLARIDAD_PACIENTE\", functions.when(pacientesDF[\"ESCOLARIDAD_PACIENTE\"] == \"TECNICA PROFESIONAL\", \"SUPERIOR\").otherwise(pacientesDF[\"ESCOLARIDAD_PACIENTE\"]))\n",
        "pacientesDF = pacientesDF.withColumn(\"ESCOLARIDAD_PACIENTE\", functions.when(pacientesDF[\"ESCOLARIDAD_PACIENTE\"] == \"TECNOLOGICA\", \"SUPERIOR\").otherwise(pacientesDF[\"ESCOLARIDAD_PACIENTE\"]))\n",
        "pacientesDF = pacientesDF.withColumn(\"ESCOLARIDAD_PACIENTE\", functions.when(pacientesDF[\"ESCOLARIDAD_PACIENTE\"] == \"PROFESIONAL\", \"SUPERIOR\").otherwise(pacientesDF[\"ESCOLARIDAD_PACIENTE\"]))\n",
        "pacientesDF = pacientesDF.withColumn(\"ESCOLARIDAD_PACIENTE\", functions.when(pacientesDF[\"ESCOLARIDAD_PACIENTE\"] == \"DOCTORADO\", \"SUPERIOR\").otherwise(pacientesDF[\"ESCOLARIDAD_PACIENTE\"]))\n",
        "pacientesDF = pacientesDF.withColumn(\"ESCOLARIDAD_PACIENTE\", functions.when(pacientesDF[\"ESCOLARIDAD_PACIENTE\"] == \"ESPECIALIZACION\", \"SUPERIOR\").otherwise(pacientesDF[\"ESCOLARIDAD_PACIENTE\"]))\n",
        "pacientesDF = pacientesDF.withColumn(\"ESCOLARIDAD_PACIENTE\", functions.when(pacientesDF[\"ESCOLARIDAD_PACIENTE\"] == \"MAESTRIA\", \"SUPERIOR\").otherwise(pacientesDF[\"ESCOLARIDAD_PACIENTE\"]))\n",
        "pacientesDF.show(5)"
      ],
      "metadata": {
        "colab": {
          "base_uri": "https://localhost:8080/"
        },
        "id": "fwpiSFoRnbFw",
        "outputId": "1427b7d4-f9f9-4084-db81-4f7169367e67"
      },
      "execution_count": 8,
      "outputs": [
        {
          "output_type": "stream",
          "name": "stdout",
          "text": [
            "+--------+---------+------------+--------+---------------+---------+----+--------------------+\n",
            "|ID_UNICO|     SEXO|ESTADO_CIVIL|ZONA_RES|        MUN_RES|PAIS_NCTO|EDAD|ESCOLARIDAD_PACIENTE|\n",
            "+--------+---------+------------+--------+---------------+---------+----+--------------------+\n",
            "|  676901|MASCULINO|  SOLTERO(A)|  URBANA|  ZONA BANANERA| COLOMBIA|  54|              BASICA|\n",
            "|  676949|MASCULINO|   CASADO(A)|  URBANA|       MEDELLIN| COLOMBIA|  27|     SIN INFORMACION|\n",
            "|  676948|MASCULINO|  SOLTERO(A)|  URBANA|SIN INFORMACION| COLOMBIA|   0|     SIN INFORMACION|\n",
            "|  635991| FEMENINO|  SOLTERO(A)|  URBANA|         ITAGUI| COLOMBIA|   0|     SIN INFORMACION|\n",
            "|  676947| FEMENINO|  SOLTERO(A)|  URBANA|         ITAGUI| COLOMBIA|  24|              BASICA|\n",
            "+--------+---------+------------+--------+---------------+---------+----+--------------------+\n",
            "only showing top 5 rows\n",
            "\n"
          ]
        }
      ]
    },
    {
      "cell_type": "markdown",
      "source": [
        "Se encontró que la mayoria de los registros para pais de nacimiento corresponden a Colombia y Venezuela, teniendo en cuenta lo anterior se decidio asisgnar la categoria otros a los demas paises registrados."
      ],
      "metadata": {
        "id": "reqPeRJKMDue"
      }
    },
    {
      "cell_type": "code",
      "source": [
        "pacientesDF = pacientesDF.withColumn(\n",
        "  \"PAIS_NCTO\",\n",
        "  functions.when(\n",
        "  (pacientesDF[\"PAIS_NCTO\"] != \"COLOMBIA\") & (pacientesDF[\"PAIS_NCTO\"] != \"VENEZUELA\"),\n",
        "  \"OTROS\"\n",
        "  ).otherwise(pacientesDF[\"PAIS_NCTO\"])\n",
        ")\n",
        "\n",
        "pacientesDF.show(5)"
      ],
      "metadata": {
        "colab": {
          "base_uri": "https://localhost:8080/"
        },
        "id": "mnQlvFv5pbTK",
        "outputId": "f321b533-eaa9-4a61-9c0f-27b92a51f6a6"
      },
      "execution_count": 9,
      "outputs": [
        {
          "output_type": "stream",
          "name": "stdout",
          "text": [
            "+--------+---------+------------+--------+---------------+---------+----+--------------------+\n",
            "|ID_UNICO|     SEXO|ESTADO_CIVIL|ZONA_RES|        MUN_RES|PAIS_NCTO|EDAD|ESCOLARIDAD_PACIENTE|\n",
            "+--------+---------+------------+--------+---------------+---------+----+--------------------+\n",
            "|  676901|MASCULINO|  SOLTERO(A)|  URBANA|  ZONA BANANERA| COLOMBIA|  54|              BASICA|\n",
            "|  676949|MASCULINO|   CASADO(A)|  URBANA|       MEDELLIN| COLOMBIA|  27|     SIN INFORMACION|\n",
            "|  676948|MASCULINO|  SOLTERO(A)|  URBANA|SIN INFORMACION| COLOMBIA|   0|     SIN INFORMACION|\n",
            "|  635991| FEMENINO|  SOLTERO(A)|  URBANA|         ITAGUI| COLOMBIA|   0|     SIN INFORMACION|\n",
            "|  676947| FEMENINO|  SOLTERO(A)|  URBANA|         ITAGUI| COLOMBIA|  24|              BASICA|\n",
            "+--------+---------+------------+--------+---------------+---------+----+--------------------+\n",
            "only showing top 5 rows\n",
            "\n"
          ]
        }
      ]
    },
    {
      "cell_type": "markdown",
      "source": [
        "Se eliminó la variable ID_UNICO, ya que no aporta valor al modelo de machine learning. Asimismo, se decidió eliminar la variable MUN_RES debido a la gran cantidad de categorías que presenta. Además, esta variable resulta irrelevante para el modelo, considerando que ya se cuenta con la variable ZONA_RES, la cual clasifica en categorías más generales (urbana y rural) que pueden aportar mayor valor al proceso de clustering."
      ],
      "metadata": {
        "id": "acdp7fC1MSx1"
      }
    },
    {
      "cell_type": "code",
      "source": [
        "pacientesDF = pacientesDF.drop(\"MUN_RES\",\"ID_UNICO\")\n",
        "pacientesDF.show(5)"
      ],
      "metadata": {
        "colab": {
          "base_uri": "https://localhost:8080/"
        },
        "id": "cCsP9xu9qiSf",
        "outputId": "70fd5e10-e6e2-48d2-b1e8-acf6d866255c"
      },
      "execution_count": 10,
      "outputs": [
        {
          "output_type": "stream",
          "name": "stdout",
          "text": [
            "+---------+------------+--------+---------+----+--------------------+\n",
            "|     SEXO|ESTADO_CIVIL|ZONA_RES|PAIS_NCTO|EDAD|ESCOLARIDAD_PACIENTE|\n",
            "+---------+------------+--------+---------+----+--------------------+\n",
            "|MASCULINO|  SOLTERO(A)|  URBANA| COLOMBIA|  54|              BASICA|\n",
            "|MASCULINO|   CASADO(A)|  URBANA| COLOMBIA|  27|     SIN INFORMACION|\n",
            "|MASCULINO|  SOLTERO(A)|  URBANA| COLOMBIA|   0|     SIN INFORMACION|\n",
            "| FEMENINO|  SOLTERO(A)|  URBANA| COLOMBIA|   0|     SIN INFORMACION|\n",
            "| FEMENINO|  SOLTERO(A)|  URBANA| COLOMBIA|  24|              BASICA|\n",
            "+---------+------------+--------+---------+----+--------------------+\n",
            "only showing top 5 rows\n",
            "\n"
          ]
        }
      ]
    },
    {
      "cell_type": "markdown",
      "source": [
        "Durante la exploración de los datos, se identificaron registros con valores de EDAD igual a 0. Aunque este valor podría corresponder a pacientes menores de 12 meses, se detectaron casos en los que la edad es 0 pero el ESTADO_CIVIL es diferente a \"SOLTERO(A)\", lo cual sugiere posibles errores de digitación o inconsistencias en la información. Por esta razón, se decidió eliminar los registros que presentan una edad igual a cero y un estado civil distinto a \"SOLTERO(A)\", con el fin de mejorar la calidad de los datos utilizados en la construcción del modelo de clustering."
      ],
      "metadata": {
        "id": "XK209IONNDHO"
      }
    },
    {
      "cell_type": "code",
      "source": [
        "pacientes_filtrados = pacientesDF.filter(\n",
        "  (pacientesDF[\"EDAD\"] == 0) & (pacientesDF[\"ESTADO_CIVIL\"] != \"SOLTERO(A)\")\n",
        ")\n",
        "\n",
        "pacientes_filtrados.show()"
      ],
      "metadata": {
        "colab": {
          "base_uri": "https://localhost:8080/"
        },
        "id": "YF5tqXTIsA9q",
        "outputId": "e224a330-9b7a-4a56-8555-05c2afa0550b"
      },
      "execution_count": 11,
      "outputs": [
        {
          "output_type": "stream",
          "name": "stdout",
          "text": [
            "+---------+------------+--------+---------+----+--------------------+\n",
            "|     SEXO|ESTADO_CIVIL|ZONA_RES|PAIS_NCTO|EDAD|ESCOLARIDAD_PACIENTE|\n",
            "+---------+------------+--------+---------+----+--------------------+\n",
            "| FEMENINO|   CASADO(A)|  URBANA| COLOMBIA|   0|     SIN INFORMACION|\n",
            "|MASCULINO|   CASADO(A)|  URBANA| COLOMBIA|   0|     SIN INFORMACION|\n",
            "| FEMENINO|   CASADO(A)|  URBANA| COLOMBIA|   0|     SIN INFORMACION|\n",
            "|MASCULINO|   CASADO(A)|  URBANA| COLOMBIA|   0|     SIN INFORMACION|\n",
            "| FEMENINO|   CASADO(A)|  URBANA| COLOMBIA|   0|              BASICA|\n",
            "|MASCULINO|   CASADO(A)|  URBANA| COLOMBIA|   0|     SIN INFORMACION|\n",
            "| FEMENINO|   CASADO(A)|  URBANA| COLOMBIA|   0|     SIN INFORMACION|\n",
            "|MASCULINO| SEPARADO(A)|  URBANA| COLOMBIA|   0|     SIN INFORMACION|\n",
            "+---------+------------+--------+---------+----+--------------------+\n",
            "\n"
          ]
        }
      ]
    },
    {
      "cell_type": "code",
      "source": [
        "columns_to_join = pacientesDF.columns\n",
        "\n",
        "pacientesDF_cleaned = pacientesDF.join(\n",
        "    pacientes_filtrados,\n",
        "    on=columns_to_join,\n",
        "    how=\"left_anti\"\n",
        ")\n",
        "\n",
        "pacientesDF_cleaned.show(5)\n",
        "pacientesDF_cleaned.printSchema()\n",
        "\n",
        "print(f\"Original count: {pacientesDF.count()}\")\n",
        "print(f\"Filtered count: {pacientes_filtrados.count()}\")\n",
        "print(f\"Cleaned count: {pacientesDF_cleaned.count()}\")"
      ],
      "metadata": {
        "colab": {
          "base_uri": "https://localhost:8080/"
        },
        "id": "6oHC4xUbsMn4",
        "outputId": "78b81bb3-1167-4d0a-daba-d2b8f095feba"
      },
      "execution_count": 12,
      "outputs": [
        {
          "output_type": "stream",
          "name": "stdout",
          "text": [
            "+---------+------------+--------+---------+----+--------------------+\n",
            "|     SEXO|ESTADO_CIVIL|ZONA_RES|PAIS_NCTO|EDAD|ESCOLARIDAD_PACIENTE|\n",
            "+---------+------------+--------+---------+----+--------------------+\n",
            "|MASCULINO|  SOLTERO(A)|  URBANA| COLOMBIA|  54|              BASICA|\n",
            "|MASCULINO|   CASADO(A)|  URBANA| COLOMBIA|  27|     SIN INFORMACION|\n",
            "|MASCULINO|  SOLTERO(A)|  URBANA| COLOMBIA|   0|     SIN INFORMACION|\n",
            "| FEMENINO|  SOLTERO(A)|  URBANA| COLOMBIA|   0|     SIN INFORMACION|\n",
            "| FEMENINO|  SOLTERO(A)|  URBANA| COLOMBIA|  24|              BASICA|\n",
            "+---------+------------+--------+---------+----+--------------------+\n",
            "only showing top 5 rows\n",
            "\n",
            "root\n",
            " |-- SEXO: string (nullable = true)\n",
            " |-- ESTADO_CIVIL: string (nullable = true)\n",
            " |-- ZONA_RES: string (nullable = true)\n",
            " |-- PAIS_NCTO: string (nullable = true)\n",
            " |-- EDAD: string (nullable = true)\n",
            " |-- ESCOLARIDAD_PACIENTE: string (nullable = true)\n",
            "\n",
            "Original count: 55962\n",
            "Filtered count: 8\n",
            "Cleaned count: 55954\n"
          ]
        }
      ]
    },
    {
      "cell_type": "code",
      "source": [
        "pacientesDF=pacientesDF_cleaned\n",
        "pacientesDF.show(5)"
      ],
      "metadata": {
        "colab": {
          "base_uri": "https://localhost:8080/"
        },
        "id": "rMHQ2loVtY26",
        "outputId": "d6a2caed-3dff-4975-a46a-114c7aaf40a7"
      },
      "execution_count": 13,
      "outputs": [
        {
          "output_type": "stream",
          "name": "stdout",
          "text": [
            "+---------+------------+--------+---------+----+--------------------+\n",
            "|     SEXO|ESTADO_CIVIL|ZONA_RES|PAIS_NCTO|EDAD|ESCOLARIDAD_PACIENTE|\n",
            "+---------+------------+--------+---------+----+--------------------+\n",
            "|MASCULINO|  SOLTERO(A)|  URBANA| COLOMBIA|  54|              BASICA|\n",
            "|MASCULINO|   CASADO(A)|  URBANA| COLOMBIA|  27|     SIN INFORMACION|\n",
            "|MASCULINO|  SOLTERO(A)|  URBANA| COLOMBIA|   0|     SIN INFORMACION|\n",
            "| FEMENINO|  SOLTERO(A)|  URBANA| COLOMBIA|   0|     SIN INFORMACION|\n",
            "| FEMENINO|  SOLTERO(A)|  URBANA| COLOMBIA|  24|              BASICA|\n",
            "+---------+------------+--------+---------+----+--------------------+\n",
            "only showing top 5 rows\n",
            "\n"
          ]
        }
      ]
    },
    {
      "cell_type": "markdown",
      "metadata": {
        "id": "pDX41ab4LO7g"
      },
      "source": [
        "##**B) Análisis Descriptivo**\n",
        "\n",
        "Cree un modelo de Kmeans que permitan describir los tipos de pacientes del hospital"
      ]
    },
    {
      "cell_type": "markdown",
      "metadata": {
        "id": "bSlgm0j-NQjn"
      },
      "source": [
        "Presente aquí el código desarrollado y el resultado obtenido"
      ]
    },
    {
      "cell_type": "markdown",
      "source": [
        "Para la creación del modelo es necesario asignar variables numericos a cada una de las variables categoricas:"
      ],
      "metadata": {
        "id": "LknL4USiN7we"
      }
    },
    {
      "cell_type": "code",
      "source": [
        "def func_Sexo(value):\n",
        "  if value==\"FEMENINO\":\n",
        "    return 0\n",
        "  else:\n",
        "    return 1"
      ],
      "metadata": {
        "id": "M09Ap7_hN50J"
      },
      "execution_count": 14,
      "outputs": []
    },
    {
      "cell_type": "code",
      "source": [
        "def func_Est_Civil(value):\n",
        "  if value==\"SOLTERO(A)\":\n",
        "    return 0\n",
        "  if value==\"CASADO(A)\":\n",
        "    return 1\n",
        "  if value==\"VIUDO(A)\":\n",
        "    return 2"
      ],
      "metadata": {
        "id": "BmlnB0-DOJsn"
      },
      "execution_count": 15,
      "outputs": []
    },
    {
      "cell_type": "code",
      "source": [
        "def func_Zona_Res(value):\n",
        "  if value==\"URBANA\":\n",
        "    return 0\n",
        "  else:\n",
        "    return 1"
      ],
      "metadata": {
        "id": "nq0d1-ZbOOWG"
      },
      "execution_count": 16,
      "outputs": []
    },
    {
      "cell_type": "code",
      "source": [
        "def func_Pais_Ncto(value):\n",
        "  if value==\"COLOMBIA\":\n",
        "    return 0\n",
        "  if value==\"VENEZUELA\":\n",
        "    return 1\n",
        "  if value==\"OTROS\":\n",
        "    return 2"
      ],
      "metadata": {
        "id": "J_UYy-e6OwF4"
      },
      "execution_count": 17,
      "outputs": []
    },
    {
      "cell_type": "code",
      "source": [
        "def func_Escolaridad(value):\n",
        "  if value==\"PREESCOLAR\":\n",
        "    return 0\n",
        "  if value==\"SIN INFORMACION\":\n",
        "    return 1\n",
        "  if value==\"BASICA\":\n",
        "    return 2\n",
        "  if value==\"MEDIA\":\n",
        "    return 3\n",
        "  if value==\"SUPERIOR\":\n",
        "    return 4"
      ],
      "metadata": {
        "id": "4mTX6t4YO7s9"
      },
      "execution_count": 18,
      "outputs": []
    },
    {
      "cell_type": "code",
      "source": [
        "pacientesDF.registerTempTable(\"pacientes\")\n",
        "sqlCtx.registerFunction(\"func_Sexo\",func_Sexo)\n",
        "sqlCtx.registerFunction(\"func_Est_Civil\",func_Est_Civil)\n",
        "sqlCtx.registerFunction(\"func_Zona_Res\",func_Zona_Res)\n",
        "sqlCtx.registerFunction(\"func_Pais_Ncto\",func_Pais_Ncto)\n",
        "sqlCtx.registerFunction(\"func_Escolaridad\",func_Escolaridad)"
      ],
      "metadata": {
        "colab": {
          "base_uri": "https://localhost:8080/",
          "height": 173
        },
        "id": "b9FHgGyyPVwR",
        "outputId": "f3d9e204-79ad-405d-fcbf-b6b261df36a9"
      },
      "execution_count": 19,
      "outputs": [
        {
          "output_type": "stream",
          "name": "stderr",
          "text": [
            "/content/spark-3.5.5-bin-hadoop3/python/pyspark/sql/dataframe.py:329: FutureWarning: Deprecated in 2.0, use createOrReplaceTempView instead.\n",
            "  warnings.warn(\"Deprecated in 2.0, use createOrReplaceTempView instead.\", FutureWarning)\n",
            "/content/spark-3.5.5-bin-hadoop3/python/pyspark/sql/context.py:296: FutureWarning: Deprecated in 2.3.0. Use spark.udf.register instead.\n",
            "  warnings.warn(\"Deprecated in 2.3.0. Use spark.udf.register instead.\", FutureWarning)\n"
          ]
        },
        {
          "output_type": "execute_result",
          "data": {
            "text/plain": [
              "<function __main__.func_Escolaridad(value)>"
            ],
            "text/html": [
              "<div style=\"max-width:800px; border: 1px solid var(--colab-border-color);\"><style>\n",
              "      pre.function-repr-contents {\n",
              "        overflow-x: auto;\n",
              "        padding: 8px 12px;\n",
              "        max-height: 500px;\n",
              "      }\n",
              "\n",
              "      pre.function-repr-contents.function-repr-contents-collapsed {\n",
              "        cursor: pointer;\n",
              "        max-height: 100px;\n",
              "      }\n",
              "    </style>\n",
              "    <pre style=\"white-space: initial; background:\n",
              "         var(--colab-secondary-surface-color); padding: 8px 12px;\n",
              "         border-bottom: 1px solid var(--colab-border-color);\"><b>func_Escolaridad</b><br/>def func_Escolaridad(value)</pre><pre class=\"function-repr-contents function-repr-contents-collapsed\" style=\"\"><a class=\"filepath\" style=\"display:none\" href=\"#\">/content/&lt;ipython-input-18-2964985373&gt;</a>&lt;no docstring&gt;</pre></div>"
            ]
          },
          "metadata": {},
          "execution_count": 19
        }
      ]
    },
    {
      "cell_type": "code",
      "source": [
        "pacientes = sqlCtx.sql(\"\"\"\n",
        "        SELECT func_Sexo(SEXO) AS SexoInt, func_Est_Civil(ESTADO_CIVIL) AS Est_CivilInt,\n",
        "        func_Zona_Res(ZONA_RES) AS Zona_ResInt, func_Pais_Ncto(PAIS_NCTO) AS Pais_NctoInt,\n",
        "        func_Escolaridad(ESCOLARIDAD_PACIENTE) AS EscolaridadInt, EDAD as EDAD\n",
        "        FROM Pacientes\n",
        "        \"\"\")\n",
        "pacientes.distinct().show(5)"
      ],
      "metadata": {
        "colab": {
          "base_uri": "https://localhost:8080/"
        },
        "id": "p3-K6qLNP4LK",
        "outputId": "2d1fb6bb-1b03-446c-eded-538773137bd1"
      },
      "execution_count": 20,
      "outputs": [
        {
          "output_type": "stream",
          "name": "stdout",
          "text": [
            "+-------+------------+-----------+------------+--------------+----+\n",
            "|SexoInt|Est_CivilInt|Zona_ResInt|Pais_NctoInt|EscolaridadInt|EDAD|\n",
            "+-------+------------+-----------+------------+--------------+----+\n",
            "|      0|           0|          0|           0|             2|  30|\n",
            "|      0|           2|          0|           0|             1|  54|\n",
            "|      1|           2|          0|           2|             2|  91|\n",
            "|      1|           1|          0|           0|             4|  85|\n",
            "|      1|           0|          0|           0|             3|  18|\n",
            "+-------+------------+-----------+------------+--------------+----+\n",
            "only showing top 5 rows\n",
            "\n"
          ]
        }
      ]
    },
    {
      "cell_type": "code",
      "source": [
        "pacientes.printSchema()"
      ],
      "metadata": {
        "colab": {
          "base_uri": "https://localhost:8080/"
        },
        "id": "Fp2LIIWLQ5Qh",
        "outputId": "b4df44c5-4f76-4491-e52e-d29f48806b19"
      },
      "execution_count": 21,
      "outputs": [
        {
          "output_type": "stream",
          "name": "stdout",
          "text": [
            "root\n",
            " |-- SexoInt: string (nullable = true)\n",
            " |-- Est_CivilInt: string (nullable = true)\n",
            " |-- Zona_ResInt: string (nullable = true)\n",
            " |-- Pais_NctoInt: string (nullable = true)\n",
            " |-- EscolaridadInt: string (nullable = true)\n",
            " |-- EDAD: string (nullable = true)\n",
            "\n"
          ]
        }
      ]
    },
    {
      "cell_type": "code",
      "source": [
        "pacientes=pacientes.withColumn(\"SexoInt\",pacientes[\"SexoInt\"].cast(IntegerType()))\n",
        "pacientes=pacientes.withColumn(\"Est_CivilInt\",pacientes[\"Est_CivilInt\"].cast(IntegerType()))\n",
        "pacientes=pacientes.withColumn(\"Zona_ResInt\",pacientes[\"Zona_ResInt\"].cast(IntegerType()))\n",
        "pacientes=pacientes.withColumn(\"Pais_NctoInt\",pacientes[\"Pais_NctoInt\"].cast(IntegerType()))\n",
        "pacientes=pacientes.withColumn(\"EscolaridadInt\",pacientes[\"EscolaridadInt\"].cast(IntegerType()))\n",
        "pacientes=pacientes.withColumn(\"EDAD\",pacientes[\"EDAD\"].cast(IntegerType()))\n",
        "pacientes.printSchema()"
      ],
      "metadata": {
        "colab": {
          "base_uri": "https://localhost:8080/"
        },
        "id": "L_jUtGm7RWbG",
        "outputId": "0df611a9-2d24-4a6e-df83-2a257a894cdd"
      },
      "execution_count": 22,
      "outputs": [
        {
          "output_type": "stream",
          "name": "stdout",
          "text": [
            "root\n",
            " |-- SexoInt: integer (nullable = true)\n",
            " |-- Est_CivilInt: integer (nullable = true)\n",
            " |-- Zona_ResInt: integer (nullable = true)\n",
            " |-- Pais_NctoInt: integer (nullable = true)\n",
            " |-- EscolaridadInt: integer (nullable = true)\n",
            " |-- EDAD: integer (nullable = true)\n",
            "\n"
          ]
        }
      ]
    },
    {
      "cell_type": "code",
      "source": [
        "pacientes.distinct().show(5)"
      ],
      "metadata": {
        "colab": {
          "base_uri": "https://localhost:8080/"
        },
        "id": "isftxPn6lF7i",
        "outputId": "f9b83cba-da34-4135-8d75-23371972951e"
      },
      "execution_count": 23,
      "outputs": [
        {
          "output_type": "stream",
          "name": "stdout",
          "text": [
            "+-------+------------+-----------+------------+--------------+----+\n",
            "|SexoInt|Est_CivilInt|Zona_ResInt|Pais_NctoInt|EscolaridadInt|EDAD|\n",
            "+-------+------------+-----------+------------+--------------+----+\n",
            "|      0|           1|          0|           0|             2|  76|\n",
            "|      1|           1|          0|           0|             4|  36|\n",
            "|      1|           1|          0|           0|             2|  79|\n",
            "|      0|           1|          0|           0|             2|  25|\n",
            "|      1|           0|          0|           0|             1|  22|\n",
            "+-------+------------+-----------+------------+--------------+----+\n",
            "only showing top 5 rows\n",
            "\n"
          ]
        }
      ]
    },
    {
      "cell_type": "markdown",
      "source": [
        "Modelo:"
      ],
      "metadata": {
        "id": "P1w0DC9TRZlO"
      }
    },
    {
      "cell_type": "code",
      "source": [
        "from pyspark.ml.feature import VectorAssembler\n",
        "vectorAssembler = VectorAssembler(inputCols = pacientes.columns, outputCol = 'features', handleInvalid=\"skip\")\n",
        "vdata = vectorAssembler.transform(pacientes)\n",
        "vdata.cache()\n",
        "vdata.show(5)"
      ],
      "metadata": {
        "colab": {
          "base_uri": "https://localhost:8080/"
        },
        "id": "8dCaSz1QRiaG",
        "outputId": "5dd19046-5521-4c43-a9b4-e1f21eb10ed2"
      },
      "execution_count": 24,
      "outputs": [
        {
          "output_type": "stream",
          "name": "stdout",
          "text": [
            "+-------+------------+-----------+------------+--------------+----+--------------------+\n",
            "|SexoInt|Est_CivilInt|Zona_ResInt|Pais_NctoInt|EscolaridadInt|EDAD|            features|\n",
            "+-------+------------+-----------+------------+--------------+----+--------------------+\n",
            "|      1|           0|          0|           0|             2|  54|[1.0,0.0,0.0,0.0,...|\n",
            "|      1|           1|          0|           0|             1|  27|[1.0,1.0,0.0,0.0,...|\n",
            "|      1|           0|          0|           0|             1|   0| (6,[0,4],[1.0,1.0])|\n",
            "|      0|           0|          0|           0|             1|   0|       (6,[4],[1.0])|\n",
            "|      0|           0|          0|           0|             2|  24|(6,[4,5],[2.0,24.0])|\n",
            "+-------+------------+-----------+------------+--------------+----+--------------------+\n",
            "only showing top 5 rows\n",
            "\n"
          ]
        }
      ]
    },
    {
      "cell_type": "code",
      "source": [
        "from pyspark.ml.clustering import KMeans\n",
        "km = KMeans( featuresCol='features', k=3, predictionCol='cluster', distanceMeasure='euclidean')\n",
        "km_model = km.fit(vdata)"
      ],
      "metadata": {
        "id": "Do8OPG48Rcvt"
      },
      "execution_count": 25,
      "outputs": []
    },
    {
      "cell_type": "code",
      "source": [
        "predictions = km_model.transform(vdata)\n",
        "predictions.distinct().show(5)"
      ],
      "metadata": {
        "colab": {
          "base_uri": "https://localhost:8080/"
        },
        "id": "IR6vbEzUZCk-",
        "outputId": "11430b2d-4d9b-466e-b7cd-931c6b09eccb"
      },
      "execution_count": 26,
      "outputs": [
        {
          "output_type": "stream",
          "name": "stdout",
          "text": [
            "+-------+------------+-----------+------------+--------------+----+--------------------+-------+\n",
            "|SexoInt|Est_CivilInt|Zona_ResInt|Pais_NctoInt|EscolaridadInt|EDAD|            features|cluster|\n",
            "+-------+------------+-----------+------------+--------------+----+--------------------+-------+\n",
            "|      0|           1|          0|           0|             2|  39|[0.0,1.0,0.0,0.0,...|      2|\n",
            "|      0|           1|          0|           0|             4|  31|[0.0,1.0,0.0,0.0,...|      0|\n",
            "|      0|           0|          0|           0|             2|  29|(6,[4,5],[2.0,29.0])|      0|\n",
            "|      1|           0|          0|           0|             4|  48|[1.0,0.0,0.0,0.0,...|      2|\n",
            "|      1|           0|          0|           0|             1|  19|[1.0,0.0,0.0,0.0,...|      0|\n",
            "+-------+------------+-----------+------------+--------------+----+--------------------+-------+\n",
            "only showing top 5 rows\n",
            "\n"
          ]
        }
      ]
    },
    {
      "cell_type": "code",
      "source": [
        "centers = km_model.clusterCenters()\n",
        "print(\"Centroides: \")\n",
        "for center in centers:\n",
        "  centerR=[round(num, 0) for num in center]\n",
        "  print(centerR)\n",
        "print(\"Variables\")\n",
        "pacientes.columns"
      ],
      "metadata": {
        "colab": {
          "base_uri": "https://localhost:8080/"
        },
        "id": "KTFMnnD4ZJti",
        "outputId": "6ea6049b-5f2d-42ea-da05-3f89e9bad838"
      },
      "execution_count": 27,
      "outputs": [
        {
          "output_type": "stream",
          "name": "stdout",
          "text": [
            "Centroides: \n",
            "[np.float64(0.0), np.float64(0.0), np.float64(0.0), np.float64(0.0), np.float64(2.0), np.float64(18.0)]\n",
            "[np.float64(0.0), np.float64(1.0), np.float64(0.0), np.float64(0.0), np.float64(2.0), np.float64(71.0)]\n",
            "[np.float64(0.0), np.float64(1.0), np.float64(0.0), np.float64(0.0), np.float64(3.0), np.float64(44.0)]\n",
            "Variables\n"
          ]
        },
        {
          "output_type": "execute_result",
          "data": {
            "text/plain": [
              "['SexoInt',\n",
              " 'Est_CivilInt',\n",
              " 'Zona_ResInt',\n",
              " 'Pais_NctoInt',\n",
              " 'EscolaridadInt',\n",
              " 'EDAD']"
            ]
          },
          "metadata": {},
          "execution_count": 27
        }
      ]
    },
    {
      "cell_type": "code",
      "source": [
        "from pyspark.ml.evaluation import ClusteringEvaluator\n",
        "evaluator = ClusteringEvaluator(predictionCol='cluster')\n",
        "silhouette = evaluator.evaluate(predictions)\n",
        "print(\"Índice de la silueta = \" + str(silhouette))"
      ],
      "metadata": {
        "colab": {
          "base_uri": "https://localhost:8080/"
        },
        "id": "3dUd6-dTZg3t",
        "outputId": "552e1fa5-c968-492c-8250-31948e8508bb"
      },
      "execution_count": 28,
      "outputs": [
        {
          "output_type": "stream",
          "name": "stdout",
          "text": [
            "Índice de la silueta = 0.672795482241847\n"
          ]
        }
      ]
    },
    {
      "cell_type": "code",
      "source": [
        "import matplotlib.pyplot as plt\n",
        "from pyspark.ml.clustering import KMeans\n",
        "kini=2; kfin=20\n",
        "ks = range(kini, kfin)\n",
        "costo=[]\n",
        "for k in range(kini, kfin):\n",
        "    kmeans= KMeans( featuresCol='features', k=k, predictionCol='cluster', distanceMeasure='euclidean')\n",
        "    model = kmeans.fit(vdata)\n",
        "    costo.append(model.summary.trainingCost)\n",
        "plt.plot(ks, costo, '-o')\n",
        "plt.title('Método del codo')\n",
        "plt.xlabel('Número de clusters')\n",
        "plt.ylabel('costo')\n",
        "plt.xticks(ks)\n",
        "plt.show()"
      ],
      "metadata": {
        "colab": {
          "base_uri": "https://localhost:8080/",
          "height": 472
        },
        "id": "alHUp52saV8c",
        "outputId": "4dae8071-2cab-4157-95e7-7776f6def9bb"
      },
      "execution_count": 29,
      "outputs": [
        {
          "output_type": "display_data",
          "data": {
            "text/plain": [
              "<Figure size 640x480 with 1 Axes>"
            ],
            "image/png": "[encoded data removed]"
          },
          "metadata": {}
        }
      ]
    },
    {
      "cell_type": "code",
      "source": [
        "km2 = KMeans( featuresCol='features', k=5, predictionCol='cluster', distanceMeasure='euclidean')\n",
        "km_model2 = km2.fit(vdata)\n",
        "predictions2 = km_model2.transform(vdata)\n",
        "predictions2.distinct().show()"
      ],
      "metadata": {
        "colab": {
          "base_uri": "https://localhost:8080/"
        },
        "id": "Jp2dVDuSb4PG",
        "outputId": "128a88f5-ac9f-4d94-ef9e-30a06669a605"
      },
      "execution_count": 30,
      "outputs": [
        {
          "output_type": "stream",
          "name": "stdout",
          "text": [
            "+-------+------------+-----------+------------+--------------+----+--------------------+-------+\n",
            "|SexoInt|Est_CivilInt|Zona_ResInt|Pais_NctoInt|EscolaridadInt|EDAD|            features|cluster|\n",
            "+-------+------------+-----------+------------+--------------+----+--------------------+-------+\n",
            "|      0|           1|          0|           0|             4|  52|[0.0,1.0,0.0,0.0,...|      4|\n",
            "|      0|           2|          0|           0|             2|  68|[0.0,2.0,0.0,0.0,...|      4|\n",
            "|      0|           0|          0|           0|             2|  87|(6,[4,5],[2.0,87.0])|      3|\n",
            "|      1|           1|          0|           0|             1|  37|[1.0,1.0,0.0,0.0,...|      0|\n",
            "|      1|           0|          0|           0|             3|  39|[1.0,0.0,0.0,0.0,...|      0|\n",
            "|      0|           1|          0|           0|             1|  30|[0.0,1.0,0.0,0.0,...|      2|\n",
            "|      1|           1|          0|           0|             4|  85|[1.0,1.0,0.0,0.0,...|      3|\n",
            "|      1|           0|          0|           1|             2|  13|[1.0,0.0,0.0,1.0,...|      1|\n",
            "|      0|           1|          0|           2|             4|  30|[0.0,1.0,0.0,2.0,...|      2|\n",
            "|      1|           1|          1|           0|             2|  38|[1.0,1.0,1.0,0.0,...|      0|\n",
            "|      0|           2|          0|           0|             1|  65|[0.0,2.0,0.0,0.0,...|      4|\n",
            "|      0|           2|          0|           0|             2|  41|[0.0,2.0,0.0,0.0,...|      0|\n",
            "|      0|           0|          0|           0|             1|  37|(6,[4,5],[1.0,37.0])|      0|\n",
            "|      1|           1|          0|           0|             2|  43|[1.0,1.0,0.0,0.0,...|      0|\n",
            "|      0|           2|          0|           0|             2|  70|[0.0,2.0,0.0,0.0,...|      4|\n",
            "|      0|           1|          0|           0|             2|  26|[0.0,1.0,0.0,0.0,...|      2|\n",
            "|      1|           0|          0|           0|             1|  77|[1.0,0.0,0.0,0.0,...|      3|\n",
            "|      0|           0|          0|           0|             4|  22|(6,[4,5],[4.0,22.0])|      2|\n",
            "|      0|           1|          0|           1|             4|  23|[0.0,1.0,0.0,1.0,...|      2|\n",
            "|      1|           0|          0|           0|             1|  73|[1.0,0.0,0.0,0.0,...|      3|\n",
            "+-------+------------+-----------+------------+--------------+----+--------------------+-------+\n",
            "only showing top 20 rows\n",
            "\n"
          ]
        }
      ]
    },
    {
      "cell_type": "code",
      "source": [
        "centers = km_model2.clusterCenters()\n",
        "print(\"Centroides: \")\n",
        "for center in centers:\n",
        "  centerR=[round(num, 0) for num in center]\n",
        "  print(centerR)\n",
        "print(\"Variables\")\n",
        "pacientes.columns"
      ],
      "metadata": {
        "colab": {
          "base_uri": "https://localhost:8080/"
        },
        "id": "LkuqICQccHEK",
        "outputId": "82d27160-937b-4132-9f28-03e3d78a344a"
      },
      "execution_count": 31,
      "outputs": [
        {
          "output_type": "stream",
          "name": "stdout",
          "text": [
            "Centroides: \n",
            "[np.float64(0.0), np.float64(1.0), np.float64(0.0), np.float64(0.0), np.float64(3.0), np.float64(42.0)]\n",
            "[np.float64(1.0), np.float64(0.0), np.float64(0.0), np.float64(0.0), np.float64(1.0), np.float64(5.0)]\n",
            "[np.float64(0.0), np.float64(0.0), np.float64(0.0), np.float64(0.0), np.float64(3.0), np.float64(26.0)]\n",
            "[np.float64(0.0), np.float64(1.0), np.float64(0.0), np.float64(0.0), np.float64(2.0), np.float64(80.0)]\n",
            "[np.float64(0.0), np.float64(1.0), np.float64(0.0), np.float64(0.0), np.float64(2.0), np.float64(61.0)]\n",
            "Variables\n"
          ]
        },
        {
          "output_type": "execute_result",
          "data": {
            "text/plain": [
              "['SexoInt',\n",
              " 'Est_CivilInt',\n",
              " 'Zona_ResInt',\n",
              " 'Pais_NctoInt',\n",
              " 'EscolaridadInt',\n",
              " 'EDAD']"
            ]
          },
          "metadata": {},
          "execution_count": 31
        }
      ]
    },
    {
      "cell_type": "code",
      "source": [
        "evaluator = ClusteringEvaluator(predictionCol='cluster')\n",
        "silhouette = evaluator.evaluate(predictions2)\n",
        "print(\"Índice de la silueta = \" + str(silhouette))"
      ],
      "metadata": {
        "colab": {
          "base_uri": "https://localhost:8080/"
        },
        "id": "Ia4MIPvacLVp",
        "outputId": "9da99e93-f8c6-4947-82d1-97b4fd716a01"
      },
      "execution_count": 32,
      "outputs": [
        {
          "output_type": "stream",
          "name": "stdout",
          "text": [
            "Índice de la silueta = 0.7145420902497638\n"
          ]
        }
      ]
    },
    {
      "cell_type": "code",
      "source": [
        "num_rows = predictions2.count()\n",
        "num_cols = len(predictions2.columns)\n",
        "\n",
        "print((num_rows, num_cols))"
      ],
      "metadata": {
        "colab": {
          "base_uri": "https://localhost:8080/"
        },
        "id": "1cUDEWNCpix6",
        "outputId": "1e9f99a8-de87-44ef-c87e-67d39ff43046"
      },
      "execution_count": 33,
      "outputs": [
        {
          "output_type": "stream",
          "name": "stdout",
          "text": [
            "(53788, 8)\n"
          ]
        }
      ]
    },
    {
      "cell_type": "code",
      "source": [
        "predictions2.show(5)"
      ],
      "metadata": {
        "colab": {
          "base_uri": "https://localhost:8080/"
        },
        "id": "d3xMphtXypRy",
        "outputId": "84abc36a-3d01-43b5-aadf-205e82e78507"
      },
      "execution_count": 34,
      "outputs": [
        {
          "output_type": "stream",
          "name": "stdout",
          "text": [
            "+-------+------------+-----------+------------+--------------+----+--------------------+-------+\n",
            "|SexoInt|Est_CivilInt|Zona_ResInt|Pais_NctoInt|EscolaridadInt|EDAD|            features|cluster|\n",
            "+-------+------------+-----------+------------+--------------+----+--------------------+-------+\n",
            "|      1|           0|          0|           0|             2|  54|[1.0,0.0,0.0,0.0,...|      4|\n",
            "|      1|           1|          0|           0|             1|  27|[1.0,1.0,0.0,0.0,...|      2|\n",
            "|      1|           0|          0|           0|             1|   0| (6,[0,4],[1.0,1.0])|      1|\n",
            "|      0|           0|          0|           0|             1|   0|       (6,[4],[1.0])|      1|\n",
            "|      0|           0|          0|           0|             2|  24|(6,[4,5],[2.0,24.0])|      2|\n",
            "+-------+------------+-----------+------------+--------------+----+--------------------+-------+\n",
            "only showing top 5 rows\n",
            "\n"
          ]
        }
      ]
    },
    {
      "cell_type": "code",
      "source": [
        "type(predictions2)"
      ],
      "metadata": {
        "colab": {
          "base_uri": "https://localhost:8080/",
          "height": 186
        },
        "id": "QUkwSRZerEJ1",
        "outputId": "3fa82345-763e-4eac-99fb-c372159daf3d"
      },
      "execution_count": 35,
      "outputs": [
        {
          "output_type": "execute_result",
          "data": {
            "text/plain": [
              "pyspark.sql.dataframe.DataFrame"
            ],
            "text/html": [
              "<div style=\"max-width:800px; border: 1px solid var(--colab-border-color);\"><style>\n",
              "      pre.function-repr-contents {\n",
              "        overflow-x: auto;\n",
              "        padding: 8px 12px;\n",
              "        max-height: 500px;\n",
              "      }\n",
              "\n",
              "      pre.function-repr-contents.function-repr-contents-collapsed {\n",
              "        cursor: pointer;\n",
              "        max-height: 100px;\n",
              "      }\n",
              "    </style>\n",
              "    <pre style=\"white-space: initial; background:\n",
              "         var(--colab-secondary-surface-color); padding: 8px 12px;\n",
              "         border-bottom: 1px solid var(--colab-border-color);\"><b>pyspark.sql.dataframe.DataFrame</b><br/>def __init__(jdf: JavaObject, sql_ctx: Union[&#x27;SQLContext&#x27;, &#x27;SparkSession&#x27;])</pre><pre class=\"function-repr-contents function-repr-contents-collapsed\" style=\"\"><a class=\"filepath\" style=\"display:none\" href=\"#\">/content/spark-3.5.5-bin-hadoop3/python/pyspark/sql/dataframe.py</a>A distributed collection of data grouped into named columns.\n",
              "\n",
              ".. versionadded:: 1.3.0\n",
              "\n",
              ".. versionchanged:: 3.4.0\n",
              "    Supports Spark Connect.\n",
              "\n",
              "Examples\n",
              "--------\n",
              "A :class:`DataFrame` is equivalent to a relational table in Spark SQL,\n",
              "and can be created using various functions in :class:`SparkSession`:\n",
              "\n",
              "&gt;&gt;&gt; people = spark.createDataFrame([\n",
              "...     {&quot;deptId&quot;: 1, &quot;age&quot;: 40, &quot;name&quot;: &quot;Hyukjin Kwon&quot;, &quot;gender&quot;: &quot;M&quot;, &quot;salary&quot;: 50},\n",
              "...     {&quot;deptId&quot;: 1, &quot;age&quot;: 50, &quot;name&quot;: &quot;Takuya Ueshin&quot;, &quot;gender&quot;: &quot;M&quot;, &quot;salary&quot;: 100},\n",
              "...     {&quot;deptId&quot;: 2, &quot;age&quot;: 60, &quot;name&quot;: &quot;Xinrong Meng&quot;, &quot;gender&quot;: &quot;F&quot;, &quot;salary&quot;: 150},\n",
              "...     {&quot;deptId&quot;: 3, &quot;age&quot;: 20, &quot;name&quot;: &quot;Haejoon Lee&quot;, &quot;gender&quot;: &quot;M&quot;, &quot;salary&quot;: 200}\n",
              "... ])\n",
              "\n",
              "Once created, it can be manipulated using the various domain-specific-language\n",
              "(DSL) functions defined in: :class:`DataFrame`, :class:`Column`.\n",
              "\n",
              "To select a column from the :class:`DataFrame`, use the apply method:\n",
              "\n",
              "&gt;&gt;&gt; age_col = people.age\n",
              "\n",
              "A more concrete example:\n",
              "\n",
              "&gt;&gt;&gt; # To create DataFrame using SparkSession\n",
              "... department = spark.createDataFrame([\n",
              "...     {&quot;id&quot;: 1, &quot;name&quot;: &quot;PySpark&quot;},\n",
              "...     {&quot;id&quot;: 2, &quot;name&quot;: &quot;ML&quot;},\n",
              "...     {&quot;id&quot;: 3, &quot;name&quot;: &quot;Spark SQL&quot;}\n",
              "... ])\n",
              "\n",
              "&gt;&gt;&gt; people.filter(people.age &gt; 30).join(\n",
              "...     department, people.deptId == department.id).groupBy(\n",
              "...     department.name, &quot;gender&quot;).agg({&quot;salary&quot;: &quot;avg&quot;, &quot;age&quot;: &quot;max&quot;}).show()\n",
              "+-------+------+-----------+--------+\n",
              "|   name|gender|avg(salary)|max(age)|\n",
              "+-------+------+-----------+--------+\n",
              "|     ML|     F|      150.0|      60|\n",
              "|PySpark|     M|       75.0|      50|\n",
              "+-------+------+-----------+--------+\n",
              "\n",
              "Notes\n",
              "-----\n",
              "A DataFrame should only be created as described above. It should not be directly\n",
              "created via using the constructor.</pre>\n",
              "      <script>\n",
              "      if (google.colab.kernel.accessAllowed && google.colab.files && google.colab.files.view) {\n",
              "        for (const element of document.querySelectorAll('.filepath')) {\n",
              "          element.style.display = 'block'\n",
              "          element.onclick = (event) => {\n",
              "            event.preventDefault();\n",
              "            event.stopPropagation();\n",
              "            google.colab.files.view(element.textContent, 80);\n",
              "          };\n",
              "        }\n",
              "      }\n",
              "      for (const element of document.querySelectorAll('.function-repr-contents')) {\n",
              "        element.onclick = (event) => {\n",
              "          event.preventDefault();\n",
              "          event.stopPropagation();\n",
              "          element.classList.toggle('function-repr-contents-collapsed');\n",
              "        };\n",
              "      }\n",
              "      </script>\n",
              "      </div>"
            ]
          },
          "metadata": {},
          "execution_count": 35
        }
      ]
    },
    {
      "cell_type": "markdown",
      "metadata": {
        "id": "T89Y60StLUuh"
      },
      "source": [
        "##**C) Análisis Predictivo**\n",
        "\n",
        "Usando el clúster asignado a cada paciente como variable objetivo, cree un modelo predictivo que permita predecir el grupo al que pertenece cada paciente"
      ]
    },
    {
      "cell_type": "markdown",
      "metadata": {
        "id": "xWQkDcDZNRVa"
      },
      "source": [
        "Presente aquí el código desarrollado y el resultado obtenido"
      ]
    },
    {
      "cell_type": "code",
      "source": [
        "from pyspark.ml.classification import LogisticRegression\n",
        "from pyspark.ml.evaluation import MulticlassClassificationEvaluator\n",
        "from pyspark.ml.tuning import ParamGridBuilder, TrainValidationSplit\n",
        "from pyspark.sql.functions import col\n",
        "from pyspark.ml.feature import VectorAssembler\n",
        "data = predictions2.select(\"features\", \"cluster\")\n",
        "data.show(5)"
      ],
      "metadata": {
        "colab": {
          "base_uri": "https://localhost:8080/"
        },
        "id": "S1ic4UWdzANR",
        "outputId": "768ce73c-bef0-4765-d2f6-183127b2ef53"
      },
      "execution_count": 36,
      "outputs": [
        {
          "output_type": "stream",
          "name": "stdout",
          "text": [
            "+--------------------+-------+\n",
            "|            features|cluster|\n",
            "+--------------------+-------+\n",
            "|[1.0,0.0,0.0,0.0,...|      4|\n",
            "|[1.0,1.0,0.0,0.0,...|      2|\n",
            "| (6,[0,4],[1.0,1.0])|      1|\n",
            "|       (6,[4],[1.0])|      1|\n",
            "|(6,[4,5],[2.0,24.0])|      2|\n",
            "+--------------------+-------+\n",
            "only showing top 5 rows\n",
            "\n"
          ]
        }
      ]
    },
    {
      "cell_type": "code",
      "source": [
        "(trainingData, testData) = data.randomSplit([0.7, 0.3], seed=42)\n",
        "print(\"Entrenamiento:\", trainingData.count())\n",
        "print(\"Prueba:\", testData.count())"
      ],
      "metadata": {
        "colab": {
          "base_uri": "https://localhost:8080/"
        },
        "id": "PWbuvFPs090C",
        "outputId": "0bb03bb1-0c50-4169-bf33-7302bbb9f009"
      },
      "execution_count": 37,
      "outputs": [
        {
          "output_type": "stream",
          "name": "stdout",
          "text": [
            "Entrenamiento: 37659\n",
            "Prueba: 16129\n"
          ]
        }
      ]
    },
    {
      "cell_type": "code",
      "source": [
        "trainingData.groupBy(\"cluster\").count().show()"
      ],
      "metadata": {
        "colab": {
          "base_uri": "https://localhost:8080/"
        },
        "id": "hza1oGrI092E",
        "outputId": "76551c03-eac4-47cc-f2bf-a9376f4233de"
      },
      "execution_count": 38,
      "outputs": [
        {
          "output_type": "stream",
          "name": "stdout",
          "text": [
            "+-------+-----+\n",
            "|cluster|count|\n",
            "+-------+-----+\n",
            "|      1| 4872|\n",
            "|      3| 4700|\n",
            "|      4| 8585|\n",
            "|      2|12089|\n",
            "|      0| 7413|\n",
            "+-------+-----+\n",
            "\n"
          ]
        }
      ]
    },
    {
      "cell_type": "code",
      "source": [
        "trainingData.groupBy(\"features\").count().show()"
      ],
      "metadata": {
        "colab": {
          "base_uri": "https://localhost:8080/"
        },
        "id": "UHGAA5so0ToA",
        "outputId": "a2c93d39-e88e-4006-9057-d82775119529"
      },
      "execution_count": 39,
      "outputs": [
        {
          "output_type": "stream",
          "name": "stdout",
          "text": [
            "+--------------------+-----+\n",
            "|            features|count|\n",
            "+--------------------+-----+\n",
            "| (6,[4,5],[1.0,5.0])|   52|\n",
            "|(6,[4,5],[1.0,80.0])|   13|\n",
            "|(6,[4,5],[3.0,91.0])|    1|\n",
            "|[0.0,0.0,0.0,1.0,...|    1|\n",
            "|[0.0,2.0,0.0,0.0,...|    5|\n",
            "|[0.0,2.0,0.0,0.0,...|   43|\n",
            "|[1.0,0.0,0.0,0.0,...|    1|\n",
            "|[1.0,0.0,0.0,0.0,...|    5|\n",
            "|[1.0,0.0,0.0,0.0,...|   30|\n",
            "|[1.0,1.0,0.0,0.0,...|    2|\n",
            "|[1.0,1.0,0.0,0.0,...|    2|\n",
            "|[1.0,1.0,0.0,2.0,...|    1|\n",
            "|[1.0,1.0,1.0,0.0,...|    1|\n",
            "|[1.0,2.0,0.0,0.0,...|    3|\n",
            "|(6,[4,5],[1.0,97.0])|    1|\n",
            "|(6,[4,5],[3.0,26.0])|   50|\n",
            "|[0.0,0.0,0.0,1.0,...|    2|\n",
            "|[0.0,1.0,0.0,0.0,...|   28|\n",
            "|[0.0,1.0,0.0,0.0,...|   31|\n",
            "|[1.0,0.0,0.0,1.0,...|    1|\n",
            "+--------------------+-----+\n",
            "only showing top 20 rows\n",
            "\n"
          ]
        }
      ]
    },
    {
      "cell_type": "code",
      "source": [
        "lr = LogisticRegression(labelCol=\"cluster\", featuresCol=\"features\", maxIter=10)\n",
        "lr_model = lr.fit(trainingData)"
      ],
      "metadata": {
        "id": "YCAtaAa4zAYf"
      },
      "execution_count": 40,
      "outputs": []
    },
    {
      "cell_type": "code",
      "source": [
        "predictions_train = lr_model.transform(trainingData)\n",
        "predictions_test = lr_model.transform(testData)"
      ],
      "metadata": {
        "id": "NtoliU1n4NJ9"
      },
      "execution_count": 41,
      "outputs": []
    },
    {
      "cell_type": "code",
      "source": [
        "evaluator = MulticlassClassificationEvaluator(labelCol=\"cluster\", predictionCol=\"prediction\", metricName=\"accuracy\")\n",
        "accuracy_train = evaluator.evaluate(predictions_train)\n",
        "print(f\"Accuracy train: {accuracy_train:.4f}\")\n",
        "accuracy_test = evaluator.evaluate(predictions_test)\n",
        "print(f\"Accuracy test: {accuracy_test:.4f}\")"
      ],
      "metadata": {
        "colab": {
          "base_uri": "https://localhost:8080/"
        },
        "id": "aaTanf4i5B9t",
        "outputId": "7c55cb33-f25b-455b-c9ad-c8833e3af8f0"
      },
      "execution_count": 42,
      "outputs": [
        {
          "output_type": "stream",
          "name": "stdout",
          "text": [
            "Accuracy train: 0.9666\n",
            "Accuracy test: 0.9671\n"
          ]
        }
      ]
    },
    {
      "cell_type": "markdown",
      "metadata": {
        "id": "WlI7cjLXLdlQ"
      },
      "source": [
        "##**D) Validación**\n",
        "\n",
        "Cree un archivo con la información de un nuevo paciente por cada integrante del grupo y utilice el modelo de predicción creado anteriormente para predecir el clúster al que pertenecerían los nuevos pacientes"
      ]
    },
    {
      "cell_type": "markdown",
      "metadata": {
        "id": "gaYRRcaPlN9w"
      },
      "source": [
        "Presente aquí el código desarrollado y el resultado obtenido"
      ]
    },
    {
      "cell_type": "code",
      "source": [
        "validacionDF = sqlCtx.read.option(\"header\",True) \\\n",
        "      .option(\"delimiter\",\";\") \\\n",
        "     .csv(\"/content/validacion.csv\")\n",
        "validacionDF.show(5)"
      ],
      "metadata": {
        "colab": {
          "base_uri": "https://localhost:8080/"
        },
        "id": "JWr754eUoyvd",
        "outputId": "ddf2aad4-07f0-4d3e-cfb4-aca333f1d1c8"
      },
      "execution_count": 58,
      "outputs": [
        {
          "output_type": "stream",
          "name": "stdout",
          "text": [
            "+---------+------------+--------+---------+----+--------------------+\n",
            "|     SEXO|ESTADO_CIVIL|ZONA_RES|PAIS_NCTO|EDAD|ESCOLARIDAD_PACIENTE|\n",
            "+---------+------------+--------+---------+----+--------------------+\n",
            "|MASCULINO|  SOLTERO(A)|  URBANA| COLOMBIA|  27|            SUPERIOR|\n",
            "| FEMENINO|  SOLTERO(A)|  URBANA|    OTROS|  26|            SUPERIOR|\n",
            "| FEMENINO|    VIUDO(A)|   RURAL|VENEZUELA|  56|              BASICA|\n",
            "+---------+------------+--------+---------+----+--------------------+\n",
            "\n"
          ]
        }
      ]
    },
    {
      "cell_type": "code",
      "source": [
        "validacionDF.printSchema()"
      ],
      "metadata": {
        "colab": {
          "base_uri": "https://localhost:8080/"
        },
        "id": "oxzbRYxipiUi",
        "outputId": "b4c12ff6-d73b-4708-fb7b-8c6347ddfa1a"
      },
      "execution_count": 59,
      "outputs": [
        {
          "output_type": "stream",
          "name": "stdout",
          "text": [
            "root\n",
            " |-- SEXO: string (nullable = true)\n",
            " |-- ESTADO_CIVIL: string (nullable = true)\n",
            " |-- ZONA_RES: string (nullable = true)\n",
            " |-- PAIS_NCTO: string (nullable = true)\n",
            " |-- EDAD: string (nullable = true)\n",
            " |-- ESCOLARIDAD_PACIENTE: string (nullable = true)\n",
            "\n"
          ]
        }
      ]
    },
    {
      "cell_type": "code",
      "source": [
        "validacionDF.registerTempTable(\"pacientes_nuevos\")\n",
        "sqlCtx.registerFunction(\"func_Sexo\",func_Sexo)\n",
        "sqlCtx.registerFunction(\"func_Est_Civil\",func_Est_Civil)\n",
        "sqlCtx.registerFunction(\"func_Zona_Res\",func_Zona_Res)\n",
        "sqlCtx.registerFunction(\"func_Pais_Ncto\",func_Pais_Ncto)\n",
        "sqlCtx.registerFunction(\"func_Escolaridad\",func_Escolaridad)"
      ],
      "metadata": {
        "colab": {
          "base_uri": "https://localhost:8080/",
          "height": 173
        },
        "id": "Hi3hHPaHpzqV",
        "outputId": "bba477bc-9a70-41fb-a9d9-0740ad40f503"
      },
      "execution_count": 60,
      "outputs": [
        {
          "output_type": "stream",
          "name": "stderr",
          "text": [
            "/content/spark-3.5.5-bin-hadoop3/python/pyspark/sql/dataframe.py:329: FutureWarning: Deprecated in 2.0, use createOrReplaceTempView instead.\n",
            "  warnings.warn(\"Deprecated in 2.0, use createOrReplaceTempView instead.\", FutureWarning)\n",
            "/content/spark-3.5.5-bin-hadoop3/python/pyspark/sql/context.py:296: FutureWarning: Deprecated in 2.3.0. Use spark.udf.register instead.\n",
            "  warnings.warn(\"Deprecated in 2.3.0. Use spark.udf.register instead.\", FutureWarning)\n"
          ]
        },
        {
          "output_type": "execute_result",
          "data": {
            "text/plain": [
              "<function __main__.func_Escolaridad(value)>"
            ],
            "text/html": [
              "<div style=\"max-width:800px; border: 1px solid var(--colab-border-color);\"><style>\n",
              "      pre.function-repr-contents {\n",
              "        overflow-x: auto;\n",
              "        padding: 8px 12px;\n",
              "        max-height: 500px;\n",
              "      }\n",
              "\n",
              "      pre.function-repr-contents.function-repr-contents-collapsed {\n",
              "        cursor: pointer;\n",
              "        max-height: 100px;\n",
              "      }\n",
              "    </style>\n",
              "    <pre style=\"white-space: initial; background:\n",
              "         var(--colab-secondary-surface-color); padding: 8px 12px;\n",
              "         border-bottom: 1px solid var(--colab-border-color);\"><b>func_Escolaridad</b><br/>def func_Escolaridad(value)</pre><pre class=\"function-repr-contents function-repr-contents-collapsed\" style=\"\"><a class=\"filepath\" style=\"display:none\" href=\"#\">/content/&lt;ipython-input-18-2964985373&gt;</a>&lt;no docstring&gt;</pre></div>"
            ]
          },
          "metadata": {},
          "execution_count": 60
        }
      ]
    },
    {
      "cell_type": "code",
      "source": [
        "pacientes_nuevos = sqlCtx.sql(\"\"\"\n",
        "        SELECT func_Sexo(SEXO) AS SexoInt, func_Est_Civil(ESTADO_CIVIL) AS Est_CivilInt,\n",
        "        func_Zona_Res(ZONA_RES) AS Zona_ResInt, func_Pais_Ncto(PAIS_NCTO) AS Pais_NctoInt,\n",
        "        func_Escolaridad(ESCOLARIDAD_PACIENTE) AS EscolaridadInt, EDAD as EDAD\n",
        "        FROM Pacientes_nuevos\n",
        "        \"\"\")\n",
        "pacientes_nuevos.distinct().show(3)"
      ],
      "metadata": {
        "colab": {
          "base_uri": "https://localhost:8080/"
        },
        "id": "c02UUIjhp7bM",
        "outputId": "204bfc6c-5f29-4773-fa53-e7153e30c0b9"
      },
      "execution_count": 61,
      "outputs": [
        {
          "output_type": "stream",
          "name": "stdout",
          "text": [
            "+-------+------------+-----------+------------+--------------+----+\n",
            "|SexoInt|Est_CivilInt|Zona_ResInt|Pais_NctoInt|EscolaridadInt|EDAD|\n",
            "+-------+------------+-----------+------------+--------------+----+\n",
            "|      0|           0|          0|           2|             4|  26|\n",
            "|      0|           2|          1|           1|             2|  56|\n",
            "|      1|           0|          0|           0|             4|  27|\n",
            "+-------+------------+-----------+------------+--------------+----+\n",
            "\n"
          ]
        }
      ]
    },
    {
      "cell_type": "code",
      "source": [
        "pacientes_nuevos=pacientes_nuevos.withColumn(\"SexoInt\",pacientes_nuevos[\"SexoInt\"].cast(IntegerType()))\n",
        "pacientes_nuevos=pacientes_nuevos.withColumn(\"Est_CivilInt\",pacientes_nuevos[\"Est_CivilInt\"].cast(IntegerType()))\n",
        "pacientes_nuevos=pacientes_nuevos.withColumn(\"Zona_ResInt\",pacientes_nuevos[\"Zona_ResInt\"].cast(IntegerType()))\n",
        "pacientes_nuevos=pacientes_nuevos.withColumn(\"Pais_NctoInt\",pacientes_nuevos[\"Pais_NctoInt\"].cast(IntegerType()))\n",
        "pacientes_nuevos=pacientes_nuevos.withColumn(\"EscolaridadInt\",pacientes_nuevos[\"EscolaridadInt\"].cast(IntegerType()))\n",
        "pacientes_nuevos=pacientes_nuevos.withColumn(\"EDAD\",pacientes_nuevos[\"EDAD\"].cast(IntegerType()))\n",
        "pacientes_nuevos.printSchema()"
      ],
      "metadata": {
        "colab": {
          "base_uri": "https://localhost:8080/"
        },
        "id": "XF84rnGXqUJV",
        "outputId": "233402af-665a-432f-8d22-e0653d1151d0"
      },
      "execution_count": 62,
      "outputs": [
        {
          "output_type": "stream",
          "name": "stdout",
          "text": [
            "root\n",
            " |-- SexoInt: integer (nullable = true)\n",
            " |-- Est_CivilInt: integer (nullable = true)\n",
            " |-- Zona_ResInt: integer (nullable = true)\n",
            " |-- Pais_NctoInt: integer (nullable = true)\n",
            " |-- EscolaridadInt: integer (nullable = true)\n",
            " |-- EDAD: integer (nullable = true)\n",
            "\n"
          ]
        }
      ]
    },
    {
      "cell_type": "code",
      "source": [
        "pacientes_nuevos.distinct().show(3)"
      ],
      "metadata": {
        "colab": {
          "base_uri": "https://localhost:8080/"
        },
        "id": "JEKNjquyrlWs",
        "outputId": "0cbfa3f3-4d50-4495-fa82-9ff51f03f92f"
      },
      "execution_count": 63,
      "outputs": [
        {
          "output_type": "stream",
          "name": "stdout",
          "text": [
            "+-------+------------+-----------+------------+--------------+----+\n",
            "|SexoInt|Est_CivilInt|Zona_ResInt|Pais_NctoInt|EscolaridadInt|EDAD|\n",
            "+-------+------------+-----------+------------+--------------+----+\n",
            "|      0|           0|          0|           2|             4|  26|\n",
            "|      1|           0|          0|           0|             4|  27|\n",
            "|      0|           2|          1|           1|             2|  56|\n",
            "+-------+------------+-----------+------------+--------------+----+\n",
            "\n"
          ]
        }
      ]
    },
    {
      "cell_type": "code",
      "source": [
        "pacientes_nuevos_vdata = vectorAssembler.transform(pacientes_nuevos)\n",
        "pacientes_nuevos_vdata.cache()\n",
        "pacientes_nuevos_vdata.show(3)"
      ],
      "metadata": {
        "colab": {
          "base_uri": "https://localhost:8080/"
        },
        "id": "LtljJNU_q2VE",
        "outputId": "002719f4-ac51-402a-b171-5116932fd8c8"
      },
      "execution_count": 64,
      "outputs": [
        {
          "output_type": "stream",
          "name": "stdout",
          "text": [
            "+-------+------------+-----------+------------+--------------+----+--------------------+\n",
            "|SexoInt|Est_CivilInt|Zona_ResInt|Pais_NctoInt|EscolaridadInt|EDAD|            features|\n",
            "+-------+------------+-----------+------------+--------------+----+--------------------+\n",
            "|      1|           0|          0|           0|             4|  27|[1.0,0.0,0.0,0.0,...|\n",
            "|      0|           0|          0|           2|             4|  26|[0.0,0.0,0.0,2.0,...|\n",
            "|      0|           2|          1|           1|             2|  56|[0.0,2.0,1.0,1.0,...|\n",
            "+-------+------------+-----------+------------+--------------+----+--------------------+\n",
            "\n"
          ]
        }
      ]
    },
    {
      "cell_type": "code",
      "source": [
        "pacientes_nuevos_prediction = km_model2.transform(pacientes_nuevos_vdata)\n",
        "\n",
        "print(\"Predicción del cluster para los nuevos pacientes:\")\n",
        "pacientes_nuevos_prediction.select(\"features\", \"cluster\").show()\n"
      ],
      "metadata": {
        "colab": {
          "base_uri": "https://localhost:8080/"
        },
        "id": "W6fLOgnCr3cM",
        "outputId": "90cd0d04-abf9-4a2e-84d1-197043f2197f"
      },
      "execution_count": 68,
      "outputs": [
        {
          "output_type": "stream",
          "name": "stdout",
          "text": [
            "Predicción del cluster para los nuevos pacientes:\n",
            "+--------------------+-------+\n",
            "|            features|cluster|\n",
            "+--------------------+-------+\n",
            "|[1.0,0.0,0.0,0.0,...|      2|\n",
            "|[0.0,0.0,0.0,2.0,...|      2|\n",
            "|[0.0,2.0,1.0,1.0,...|      4|\n",
            "+--------------------+-------+\n",
            "\n"
          ]
        }
      ]
    },
    {
      "cell_type": "markdown",
      "metadata": {
        "id": "4JYIy6EaEISf"
      },
      "source": [
        "##**Análisis de los resultados**\n",
        "\n",
        "Analice la calidad de los modelos obtenidos y presente sus conclusiones sobre el ejercicio:"
      ]
    },
    {
      "cell_type": "markdown",
      "source": [
        "\n",
        "En la etapa de clusterización y gracias al metodo del codo se logró establecer 5 cluster para categorizar la base de datos, a partir de clusterización se obtienen los siguientes centroides:\n",
        "\n",
        "- Clúster 0: Mujeres casadas, zona urbana, colombianas, escolaridad media, edad promedio de 42 años\n",
        "- Clúster 1: Hombres solteros, zona urbana, colombianos, sin información de escolaridad, edad promedio de 5 años\n",
        "- Clúster 2: Mujeres solteras, zona urbana, colombianas, escolaridad media, edad promedio de 26 años\n",
        "- Clúster 3: Mujeres casadas, zona urbana, colombianas, escolaridad básica, edad promedio de 80 años\n",
        "- Clúster 4: Mujeres casadas, zona urbana, colombianas, escolaridad básica, edad promedio de 61 años\n",
        "\n",
        "El indice de la silueta obtenido para el modelo de clusterización es de 0.7145 lo cual nos indica que los 5 clústeres están bien definidos, con una buena separación entre ellos y coherencia interna reflejo de un buen modelo.\n",
        "\n",
        "Por otra parte, en la etapa de predicción, haciendo uso de un modelo de regresión logistica se presentan valores de precisión de 0.9666 y 0.9671 para entrenamiento y prueba respectivamente, lo cual refleja que el modelo funciona adecuadamente para clasificar los pacientes con base en su nivel educativo, zona residencial, pais de nacimiento, genero y edad. La similitud entre los valores de precisión para entrenamiento y modelo indica que el modelo generaliza bien lo cual es un indicio de que no hay sobreajuste.\n",
        "\n",
        "En la etapa de validación, se observa que el modelo de clusterización le da un mayor peso a las vairables asociadas a la edad y escolaridad para categorizar los registros."
      ],
      "metadata": {
        "id": "MGh6uuBus22c"
      }
    }
  ],
  "metadata": {
    "colab": {
      "provenance": []
    },
    "kernelspec": {
      "display_name": "Python 3",
      "name": "python3"
    }
  },
  "nbformat": 4,
  "nbformat_minor": 0
}