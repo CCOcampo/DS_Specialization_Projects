{
  "cells": [
    {
      "cell_type": "code",
      "execution_count": null,
      "metadata": {
        "id": "Z7rbDx_-JApm"
      },
      "outputs": [],
      "source": [
        "!wget --no-cache -O init.py -q https://raw.githubusercontent.com/UDEA-Esp-Analitica-y-Ciencia-de-Datos/EACD-03-BIGDATA/master/init.py\n",
        "import init; init.init(force_download=False);\n",
        "from IPython.display import Image"
      ]
    },
    {
      "cell_type": "code",
      "execution_count": null,
      "metadata": {
        "colab": {
          "base_uri": "https://localhost:8080/",
          "height": 251
        },
        "id": "hDzn_xcpJRWR",
        "outputId": "1a565802-9277-4c7d-a9fe-a3ba8a4dab3d"
      },
      "outputs": [
        {
          "data": {
            "image/png": "[encoded data removed]",
            "text/plain": [
              "<IPython.core.display.Image object>"
            ]
          },
          "execution_count": 9,
          "metadata": {},
          "output_type": "execute_result"
        }
      ],
      "source": [
        "Image(\"local/imgs/udea-datascience.png\")"
      ]
    },
    {
      "cell_type": "markdown",
      "metadata": {
        "id": "myHD-jFLKEal"
      },
      "source": [
        "# **TALLER 1: RDD**\n",
        "\n",
        "## Desarrollado por: Mg. Efraín Alberto Oviedo\n",
        "\n",
        "## Universidad de Antioquia\n"
      ]
    },
    {
      "cell_type": "markdown",
      "metadata": {
        "id": "4GK6iJ1CKS8o"
      },
      "source": [
        "**Nombre Completo:**\n",
        "\n",
        "- Maria Isabel Duque Buitrago\n",
        "- Cristhian Camilo Ocampo Bolivar\n",
        "- Leidy Estefanía Silva Torres\n",
        "\n",
        "**Cédula:**\n",
        "\n",
        "- 1.037.666.575\n",
        "- 1.152.220.729\n",
        "- 1.020.479.068\n",
        "\n",
        "**Correo Institucional:**\n",
        "\n",
        "- maria.duqueb@udea.edu.co\n",
        "- cristhian.ocampo@udea.edu.co\n",
        "- estefania.silva@udea.edu.co\n"
      ]
    },
    {
      "cell_type": "code",
      "execution_count": null,
      "metadata": {
        "id": "mzDnN5SOeEcp"
      },
      "outputs": [],
      "source": [
        "#Instalación\n",
        "!apt-get install openjdk-11-jdk-headless -qq > /dev/null\n",
        "!wget -q http://archive.apache.org/dist/spark/spark-3.5.5/spark-3.5.5-bin-hadoop3.tgz\n",
        "!tar xf spark-3.5.5-bin-hadoop3.tgz\n",
        "!pip install -q findspark\n",
        "\n",
        "#Variables de Entorno\n",
        "import os\n",
        "os.environ[\"JAVA_HOME\"] = \"/usr/lib/jvm/java-11-openjdk-amd64\"\n",
        "os.environ[\"SPARK_HOME\"] = \"/content/spark-3.5.5-bin-hadoop3\"\n",
        "\n",
        "#SparkContext\n",
        "import findspark\n",
        "findspark.init()\n",
        "from pyspark.sql import SparkSession\n",
        "from pyspark import SparkContext\n",
        "spark = SparkSession.builder.master(\"local[*]\").getOrCreate()\n",
        "sc = SparkContext.getOrCreate()"
      ]
    },
    {
      "cell_type": "code",
      "execution_count": null,
      "metadata": {
        "colab": {
          "base_uri": "https://localhost:8080/"
        },
        "id": "8K2isg2ed9R8",
        "outputId": "a51a8986-b867-4ddb-dce0-00d384978711"
      },
      "outputs": [
        {
          "data": {
            "text/plain": [
              "['RADICADO,FECHA,HORA,DIA,CLASE,DIRECCION,TIPO_GEOCOD,GRAVEDAD,BARRIO,COMUNA,DISENO',\n",
              " '1565221,01/01/2017,00:10:00,DOMINGO  ,Atropello,CL 68 CR 87,EPM con Interior,HERIDO,Palenque,Robledo,Tramo de via',\n",
              " '1565189,01/01/2017,00:20:00,DOMINGO  ,Choque,CL 44 CR 93,EPM sin Interior,HERIDO,Campo Alegre,La América,Tramo de via',\n",
              " '1565182,01/01/2017,00:20:00,DOMINGO  ,Choque,CR 16 CL 56,Malla vial,HERIDO,Villatina,Villa Hermosa,Tramo de via',\n",
              " '1565404,01/01/2017,01:25:00,DOMINGO  ,Choque,CR 41 CL 85,Malla vial,SOLO DAÑOS,Las Granjas,Manrique,Interseccion']"
            ]
          },
          "execution_count": 11,
          "metadata": {},
          "output_type": "execute_result"
        }
      ],
      "source": [
        "file = sc.textFile(\"/content/local/data/accidentalidad.csv\")\n",
        "file.take(5)"
      ]
    },
    {
      "cell_type": "code",
      "execution_count": null,
      "metadata": {
        "colab": {
          "base_uri": "https://localhost:8080/"
        },
        "id": "ygz-CmYvhX2c",
        "outputId": "02488e3f-e20d-4c7d-a787-0ae929e8a10c"
      },
      "outputs": [
        {
          "data": {
            "text/plain": [
              "['1565221,01/01/2017,00:10:00,DOMINGO  ,Atropello,CL 68 CR 87,EPM con Interior,HERIDO,Palenque,Robledo,Tramo de via',\n",
              " '1565189,01/01/2017,00:20:00,DOMINGO  ,Choque,CL 44 CR 93,EPM sin Interior,HERIDO,Campo Alegre,La América,Tramo de via',\n",
              " '1565182,01/01/2017,00:20:00,DOMINGO  ,Choque,CR 16 CL 56,Malla vial,HERIDO,Villatina,Villa Hermosa,Tramo de via',\n",
              " '1565404,01/01/2017,01:25:00,DOMINGO  ,Choque,CR 41 CL 85,Malla vial,SOLO DAÑOS,Las Granjas,Manrique,Interseccion',\n",
              " '1565185,01/01/2017,01:30:00,DOMINGO  ,Choque,CR 76 CL 91,Malla vial,HERIDO,Kennedy,Doce de Octubre,Tramo de via']"
            ]
          },
          "execution_count": 12,
          "metadata": {},
          "output_type": "execute_result"
        }
      ],
      "source": [
        "header = file.first()\n",
        "data = file.filter(lambda row: row != header)\n",
        "data.take(5)"
      ]
    },
    {
      "cell_type": "markdown",
      "metadata": {
        "id": "UlYY1g0lKhz_"
      },
      "source": [
        "#**Análisis de Accidentalidad en la ciudad de Medellín**\n",
        "\n",
        "La secretaría de movilidad de la alcaldía de Medellín ha recolectado datos relacionados con la accidentalidad vial del año 2017 (Disponible en https://www.datos.gov.co) registrando en cada accidente la siguiente información:\n",
        "\n",
        "- Fecha\n",
        "- Hora\n",
        "- Día de la semana\n",
        "- Clase de accidente\n",
        "- Dirección\n",
        "- Gravedad\n",
        "- Barrio\n",
        "- Comuna\n",
        "\n",
        "Con el fin de adelantar programas que permitan disminuir la accidentalidad vial en la ciudad, se requiere de su ayuda para generar un informe que contenga la siguiente información:\n"
      ]
    },
    {
      "cell_type": "markdown",
      "metadata": {
        "id": "GAyH6mgGK3VA"
      },
      "source": [
        "## **A) Porcentaje de accidentes en cada día de la semana**\n"
      ]
    },
    {
      "cell_type": "markdown",
      "metadata": {
        "id": "F-njqbnTM2To"
      },
      "source": [
        "Presente aquí el código desarrollado y el resultado obtenido\n"
      ]
    },
    {
      "cell_type": "code",
      "execution_count": null,
      "metadata": {
        "colab": {
          "base_uri": "https://localhost:8080/"
        },
        "id": "uuxNx7tfhW9y",
        "outputId": "f9337f38-b059-4b74-c6f7-c10efafe9eb3"
      },
      "outputs": [
        {
          "data": {
            "text/plain": [
              "[['1565221',\n",
              "  '01/01/2017',\n",
              "  '00:10:00',\n",
              "  'DOMINGO  ',\n",
              "  'Atropello',\n",
              "  'CL 68 CR 87',\n",
              "  'EPM con Interior',\n",
              "  'HERIDO',\n",
              "  'Palenque',\n",
              "  'Robledo',\n",
              "  'Tramo de via'],\n",
              " ['1565189',\n",
              "  '01/01/2017',\n",
              "  '00:20:00',\n",
              "  'DOMINGO  ',\n",
              "  'Choque',\n",
              "  'CL 44 CR 93',\n",
              "  'EPM sin Interior',\n",
              "  'HERIDO',\n",
              "  'Campo Alegre',\n",
              "  'La América',\n",
              "  'Tramo de via'],\n",
              " ['1565182',\n",
              "  '01/01/2017',\n",
              "  '00:20:00',\n",
              "  'DOMINGO  ',\n",
              "  'Choque',\n",
              "  'CR 16 CL 56',\n",
              "  'Malla vial',\n",
              "  'HERIDO',\n",
              "  'Villatina',\n",
              "  'Villa Hermosa',\n",
              "  'Tramo de via'],\n",
              " ['1565404',\n",
              "  '01/01/2017',\n",
              "  '01:25:00',\n",
              "  'DOMINGO  ',\n",
              "  'Choque',\n",
              "  'CR 41 CL 85',\n",
              "  'Malla vial',\n",
              "  'SOLO DAÑOS',\n",
              "  'Las Granjas',\n",
              "  'Manrique',\n",
              "  'Interseccion'],\n",
              " ['1565185',\n",
              "  '01/01/2017',\n",
              "  '01:30:00',\n",
              "  'DOMINGO  ',\n",
              "  'Choque',\n",
              "  'CR 76 CL 91',\n",
              "  'Malla vial',\n",
              "  'HERIDO',\n",
              "  'Kennedy',\n",
              "  'Doce de Octubre',\n",
              "  'Tramo de via']]"
            ]
          },
          "execution_count": 13,
          "metadata": {},
          "output_type": "execute_result"
        }
      ],
      "source": [
        "data=data.map(lambda x: x.split(\",\"))\n",
        "data.take(5)"
      ]
    },
    {
      "cell_type": "code",
      "execution_count": null,
      "metadata": {
        "colab": {
          "base_uri": "https://localhost:8080/"
        },
        "id": "wmRSOPEpiKWi",
        "outputId": "cc0c941f-a346-46d6-dc44-0b2dda105b54"
      },
      "outputs": [
        {
          "data": {
            "text/plain": [
              "[('DOMINGO  ', 3917),\n",
              " ('JUEVES   ', 6275),\n",
              " ('MARTES   ', 6817),\n",
              " ('SÁBADO   ', 6055),\n",
              " ('LUNES    ', 5981),\n",
              " ('MIÉRCOLES', 6604),\n",
              " ('VIERNES  ', 6909)]"
            ]
          },
          "execution_count": 14,
          "metadata": {},
          "output_type": "execute_result"
        }
      ],
      "source": [
        "accid_dia=data.map(lambda x: ((x[3]),1)).reduceByKey(lambda x,y: x+y)\n",
        "accid_dia.take(7)"
      ]
    },
    {
      "cell_type": "code",
      "execution_count": null,
      "metadata": {
        "colab": {
          "base_uri": "https://localhost:8080/"
        },
        "id": "f_e9d9JmmXBm",
        "outputId": "8ad0a7fb-c405-4c93-bf83-ab2a80ad7ac4"
      },
      "outputs": [
        {
          "data": {
            "text/plain": [
              "[('VIERNES  ', 16.23),\n",
              " ('MARTES   ', 16.02),\n",
              " ('MIÉRCOLES', 15.52),\n",
              " ('JUEVES   ', 14.74),\n",
              " ('SÁBADO   ', 14.23),\n",
              " ('LUNES    ', 14.05),\n",
              " ('DOMINGO  ', 9.2)]"
            ]
          },
          "execution_count": 15,
          "metadata": {},
          "output_type": "execute_result"
        }
      ],
      "source": [
        "total_accidentes = accid_dia.map(lambda x: x[1]).sum()\n",
        "porcentaje_por_dia = accid_dia.map(lambda x: (x[0], round((x[1] / total_accidentes)*100,2)))\n",
        "porcentaje_por_dia.collect()\n",
        "sorted_porcentaje_por_dia = porcentaje_por_dia.sortBy(lambda x: x[1], ascending=False)\n",
        "sorted_porcentaje_por_dia.collect()"
      ]
    },
    {
      "cell_type": "markdown",
      "metadata": {
        "id": "QWAj5_nFtDju"
      },
      "source": [
        "El viernes se destaca como el día con mayor accidentalidad en la ciudad de Medellín, concentrando el 16,23 % del total de accidentes registrados en el año 2017. Esto puede estar relacionado con un aumento en el flujo vehicular propio del cierre de la semana laboral, incluyendo desplazamientos hacia actividades recreativas, retornos desde lugares de trabajo y viajes de fin de semana.\n",
        "\n",
        "En contraste, el domingo registra el menor porcentaje de accidentes, con un 9,2 %. Esta disminución podría explicarse por ser un día típicamente asociado al descanso, lo que se traduce en una notable reducción del tránsito vehicular en la ciudad.\n"
      ]
    },
    {
      "cell_type": "markdown",
      "metadata": {
        "id": "HGwierHTLFt3"
      },
      "source": [
        "## **B) Barrio en el que se presenta el mayor y el menor número de accidentes**\n"
      ]
    },
    {
      "cell_type": "code",
      "execution_count": null,
      "metadata": {
        "colab": {
          "base_uri": "https://localhost:8080/"
        },
        "id": "2mODNJJCnEfn",
        "outputId": "9f9e6e85-fc69-4bb2-e8f0-e9a27a08a007"
      },
      "outputs": [
        {
          "data": {
            "text/plain": [
              "[('Palenque', 55),\n",
              " ('Campo Alegre', 119),\n",
              " ('Miranda', 208),\n",
              " ('Centro Administrativo', 65),\n",
              " ('Manrique Oriental', 168)]"
            ]
          },
          "execution_count": 16,
          "metadata": {},
          "output_type": "execute_result"
        }
      ],
      "source": [
        "barrio=data.map(lambda x: ((x[8]),1))\n",
        "barrio=barrio.reduceByKey(lambda x,y: x+y)\n",
        "barrio.take(5)"
      ]
    },
    {
      "cell_type": "code",
      "execution_count": null,
      "metadata": {
        "colab": {
          "base_uri": "https://localhost:8080/"
        },
        "id": "bHQiAsX9nbA1",
        "outputId": "d009ccd1-5e8b-4c2c-eb31-42a208c93d2f"
      },
      "outputs": [
        {
          "name": "stdout",
          "output_type": "stream",
          "text": [
            "Barrio con el mayor número de accidentes: ('La Candelaria', 944)\n",
            "Barrio con el menor número de accidentes: ('Villa Lilliam', 1)\n"
          ]
        }
      ],
      "source": [
        "acc_por_barrio = barrio.collect()\n",
        "mayor_barrio = max(acc_por_barrio, key=lambda item: item[1])\n",
        "menor_barrio = min(acc_por_barrio, key=lambda item: item[1])\n",
        "\n",
        "print(\"Barrio con el mayor número de accidentes:\", mayor_barrio)\n",
        "print(\"Barrio con el menor número de accidentes:\", menor_barrio)"
      ]
    },
    {
      "cell_type": "markdown",
      "metadata": {
        "id": "APE7hA7hwsUK"
      },
      "source": [
        "La Candelaria es una de las zonas con mayor accidentalidad en Medellín debido a su alta concentración de actividad comercial, administrativa y de transporte. Aunque es la comuna menos poblada, su ubicación en el centro de la ciudad la convierte en un punto de gran afluencia peatonal y vehicular durante el día. Esta intensa movilidad, sumada a la presencia de numerosas rutas de transporte público y cruces concurridos, incrementa significativamente el riesgo de accidentes viales. Por otra parte, el barrio Villa Lilliam, esta ubicado en una zona periferica de la ciudad lo que puede presentar menor riesgo de accidentes viales asociados a un bajo flujo vehicular.\n"
      ]
    },
    {
      "cell_type": "markdown",
      "metadata": {
        "id": "pDX41ab4LO7g"
      },
      "source": [
        "## **C) Comuna en la que se presenta mayor número de accidentes con muertos**\n"
      ]
    },
    {
      "cell_type": "markdown",
      "metadata": {
        "id": "bSlgm0j-NQjn"
      },
      "source": [
        "Presente aquí el código desarrollado y el resultado obtenido\n"
      ]
    },
    {
      "cell_type": "code",
      "execution_count": null,
      "metadata": {
        "colab": {
          "base_uri": "https://localhost:8080/"
        },
        "id": "ETvPnq5XphSl",
        "outputId": "913cead6-82e7-4302-9b79-367b8865a898"
      },
      "outputs": [
        {
          "name": "stdout",
          "output_type": "stream",
          "text": [
            "[['12', '01/01/2017', '05:05:00', 'DOMINGO  ', 'Atropello', 'CL 77 A CR 88', 'Malla vial', 'MUERTO', 'Aures No.1', 'Robledo', 'S/I'], ['20', '01/01/2017', '08:30:00', 'DOMINGO  ', 'Choque', 'CL 66 CR 103 B - 15', 'Nomenclatura con Interior', 'MUERTO', 'Área de Expansión Pajarito', 'Corregimiento de San Cristóbal', 'S/I'], ['1122', '01/01/2017', '21:23:00', 'DOMINGO  ', 'Atropello', 'CR 65 C CL 105 - 143', 'Malla vial aproximada: CR 65-104', 'MUERTO', 'Boyacá', 'Castilla', 'S/I'], ['5.0016E+19', '03/01/2017', '09:41:00', 'MARTES   ', 'Choque y Atropello', 'CR 39 CL 50', 'Malla vial', 'MUERTO', 'Boston', 'La Candelaria', 'S/I'], ['499', '05/01/2017', '07:55:00', 'JUEVES   ', 'Atropello', 'CR 51 D CL 54', 'Malla vial aproximada: CR 51-54', 'MUERTO', 'Estación Villa', 'La Candelaria', 'S/I']]\n"
          ]
        }
      ],
      "source": [
        "accidentes_muertos = data.filter(lambda x: x[7].strip()==\"MUERTO\")\n",
        "print(accidentes_muertos.take(5))"
      ]
    },
    {
      "cell_type": "code",
      "execution_count": null,
      "metadata": {
        "colab": {
          "base_uri": "https://localhost:8080/"
        },
        "id": "GnZomffJqDSU",
        "outputId": "e3efd914-8a92-4387-9b5e-4a73b971a763"
      },
      "outputs": [
        {
          "name": "stdout",
          "output_type": "stream",
          "text": [
            "Comuna con más accidentes con muertos: [('La Candelaria', 14)]\n"
          ]
        }
      ],
      "source": [
        "muertos_por_comuna = accidentes_muertos.map(lambda x: (x[9].strip(), 1)).reduceByKey(lambda a, b: a + b)\n",
        "\n",
        "comuna_max_muertos = muertos_por_comuna.takeOrdered(1, key=lambda x: -x[1])\n",
        "\n",
        "print(\"Comuna con más accidentes con muertos:\", comuna_max_muertos)"
      ]
    },
    {
      "cell_type": "markdown",
      "metadata": {
        "id": "RScAmDTVyiEK"
      },
      "source": [
        "Complementando lo anterior, la comuna la candelaria presenta el mayor numero de accidentes, esta zona acoge gran parte del centro de Medellín, desde la Avenida regional a la altura de Industriales hasta la Universidad de Antioquia incluyendo la avenida del río la cual es una de las vias con mayor flujo vehicular durante todo el día lo que puede aumentar el riesgo de accidentes.\n"
      ]
    },
    {
      "cell_type": "markdown",
      "metadata": {
        "id": "T89Y60StLUuh"
      },
      "source": [
        "## **D) Día de la semana en que se presentaron mayor cantidad de accidentes con muertos**\n"
      ]
    },
    {
      "cell_type": "markdown",
      "metadata": {
        "id": "xWQkDcDZNRVa"
      },
      "source": [
        "Presente aquí el código desarrollado y el resultado obtenido\n"
      ]
    },
    {
      "cell_type": "code",
      "execution_count": null,
      "metadata": {
        "colab": {
          "base_uri": "https://localhost:8080/"
        },
        "id": "1RsJXK_OrNqN",
        "outputId": "3939304b-c7ee-4bbe-d900-6eae1929ba14"
      },
      "outputs": [
        {
          "name": "stdout",
          "output_type": "stream",
          "text": [
            "Día de la semana con más accidentes con muertos: [('DOMINGO', 31)]\n"
          ]
        }
      ],
      "source": [
        "dia_muerto=accidentes_muertos.map(lambda x: (x[3].strip(), 1)).reduceByKey(lambda a, b: a + b)\n",
        "\n",
        "dia_max_muertos = dia_muerto.takeOrdered(1, key=lambda x: -x[1])\n",
        "\n",
        "print(\"Día de la semana con más accidentes con muertos:\", dia_max_muertos)"
      ]
    },
    {
      "cell_type": "markdown",
      "metadata": {
        "id": "9w_5xR_6zykS"
      },
      "source": [
        "Los domingos se registran altos índices de mortalidad en Medellín, principalmente por el aumento de fiestas durante la noche del sábado y la madrugada del domingo. Muchas personas conducen bajo los efectos del alcohol, lo que eleva el riesgo de incidentes viales en estas jornadas.\n"
      ]
    },
    {
      "cell_type": "markdown",
      "metadata": {
        "id": "WlI7cjLXLdlQ"
      },
      "source": [
        "## **E) Hora en la que se presentó mayor cantidad de accidentes con heridos**\n"
      ]
    },
    {
      "cell_type": "markdown",
      "metadata": {
        "id": "xHtI3jGcNTNn"
      },
      "source": [
        "Presente aquí el código desarrollado y el resultado obtenido\n"
      ]
    },
    {
      "cell_type": "code",
      "execution_count": null,
      "metadata": {
        "colab": {
          "base_uri": "https://localhost:8080/"
        },
        "id": "IIhnZ2XsrrEU",
        "outputId": "6c70aaec-8663-4752-b5fb-cf4bab8bc9e0"
      },
      "outputs": [
        {
          "name": "stdout",
          "output_type": "stream",
          "text": [
            "[['1565221', '01/01/2017', '00:10:00', 'DOMINGO  ', 'Atropello', 'CL 68 CR 87', 'EPM con Interior', 'HERIDO', 'Palenque', 'Robledo', 'Tramo de via'], ['1565189', '01/01/2017', '00:20:00', 'DOMINGO  ', 'Choque', 'CL 44 CR 93', 'EPM sin Interior', 'HERIDO', 'Campo Alegre', 'La América', 'Tramo de via'], ['1565182', '01/01/2017', '00:20:00', 'DOMINGO  ', 'Choque', 'CR 16 CL 56', 'Malla vial', 'HERIDO', 'Villatina', 'Villa Hermosa', 'Tramo de via'], ['1565185', '01/01/2017', '01:30:00', 'DOMINGO  ', 'Choque', 'CR 76 CL 91', 'Malla vial', 'HERIDO', 'Kennedy', 'Doce de Octubre', 'Tramo de via'], ['1565186', '01/01/2017', '01:30:00', 'DOMINGO  ', 'Caida Ocupante', 'CR 39 CL 66', 'Malla vial', 'HERIDO', 'Villa Hermosa', 'Villa Hermosa', 'Tramo de via']]\n"
          ]
        }
      ],
      "source": [
        "accidente_herido=data.filter(lambda x: x[7].strip()==\"HERIDO\")\n",
        "print(accidente_herido.take(5))"
      ]
    },
    {
      "cell_type": "code",
      "execution_count": null,
      "metadata": {
        "colab": {
          "base_uri": "https://localhost:8080/"
        },
        "id": "077fRQRtr_5W",
        "outputId": "126d3aec-9ab4-4f4f-801a-62bd286003ce"
      },
      "outputs": [
        {
          "name": "stdout",
          "output_type": "stream",
          "text": [
            "Hora con más accidentes con heridos: [('18:00:00', 447)]\n"
          ]
        }
      ],
      "source": [
        "hora_herido=accidente_herido.map(lambda x: (x[2].strip(), 1)).reduceByKey(lambda a, b: a + b)\n",
        "\n",
        "hora_max_herido = hora_herido.takeOrdered(1, key=lambda x: -x[1])\n",
        "\n",
        "print(\"Hora con más accidentes con heridos:\", hora_max_herido)"
      ]
    },
    {
      "cell_type": "markdown",
      "metadata": {
        "id": "NrAV0axn0Q-i"
      },
      "source": [
        "Las 6:00pm corresponde a la hora con mayor numero de accidentes con heridos en la ciudad de Medellín, esto puede estar asociado con el fin de la jornada laboral un momento en el que conductores y peatones pueden estar más cansados y menos atentos, lo que incrementa el riesgo de accidentes\n"
      ]
    },
    {
      "cell_type": "markdown",
      "metadata": {
        "id": "j1LlOYfTNVsn"
      },
      "source": [
        "# **Propuesta para disminuir la accidentalidad de la ciudad**\n"
      ]
    },
    {
      "cell_type": "markdown",
      "metadata": {
        "id": "Z-rPhr5tNezH"
      },
      "source": [
        "A partir del análisis realizado se proponen las siguientes acciones para disminuir las cifras de accidentes en la ciudad de Medellín:\n",
        "\n",
        "- Aumentar la presencia de agentes de tránsito los sábados en la noche y domingos en la mañana, con el fin de controlar el estado de los conductores y prevenir que manejen bajo los efectos del alcohol.\n",
        "\n",
        "- Implementar campañas de concientización sobre seguridad vial enfocadas en horarios y zonas de mayor riesgo, como el centro de la ciudad y los corredores viales con mayor flujo vehicular.\n",
        "\n",
        "- Mejorar la señalización y la iluminación en puntos críticos, especialmente en horarios de alta movilidad como entre las 6 de la tarde.\n",
        "\n",
        "- Fomentar el uso de transporte público y opciones de movilidad segura, especialmente durante fines de semana y eventos nocturnos.\n"
      ]
    }
  ],
  "metadata": {
    "colab": {
      "provenance": []
    },
    "kernelspec": {
      "display_name": "Python 3",
      "name": "python3"
    }
  },
  "nbformat": 4,
  "nbformat_minor": 0
}
