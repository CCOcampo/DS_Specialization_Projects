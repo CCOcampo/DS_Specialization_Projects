{
  "nbformat": 4,
  "nbformat_minor": 0,
  "metadata": {
    "colab": {
      "provenance": []
    },
    "kernelspec": {
      "name": "python3",
      "display_name": "Python 3"
    },
    "language_info": {
      "name": "python"
    }
  },
  "cells": [
    {
      "cell_type": "markdown",
      "source": [
        "<div style=\"display: flex; align-items: center; justify-content: center;\">\n",
        "    <img src=\"https://upload.wikimedia.org/wikipedia/commons/f/fb/Escudo-UdeA.svg\" width=\"150\" style=\"margin-right: 20px;\">\n",
        "    <div>\n",
        "\n",
        "# Taller N° 1 - Estadistica y análisis exploratorio\n",
        "\n",
        "### Cristhian Ocampo Bolivar\n",
        "### Maria Isabel Duque Buitrago\n",
        "### Leidy Estefanía Silva Torres"
      ],
      "metadata": {
        "id": "4u8uNjf6v4aP"
      }
    },
    {
      "cell_type": "code",
      "source": [
        "from scipy.stats import binom, norm\n",
        "import matplotlib as plt"
      ],
      "metadata": {
        "id": "QHfqxjoq0NgW"
      },
      "execution_count": null,
      "outputs": []
    },
    {
      "cell_type": "markdown",
      "source": [
        "##**Ejercicio 1**\n",
        "\n",
        "De acuerdo con las especificaciones, los alambres para un sistema de cómputo tienen una resistencia entre 0.12 y 0.14 ohms. Las mediciones de resistencias reales de los alambres que fabrica la compañía A tienen una distribución de probabilidad normal con media de 0.13 ohms y una desviación estándar de 0.01 ohms. Si se selecciona aleatoriamente un alambre de la producción de la empresa A, la probabilidad de que no cumpla las especificaciones es?\n"
      ],
      "metadata": {
        "id": "KubmQgb6wRlt"
      }
    },
    {
      "cell_type": "markdown",
      "source": [
        "## **Variable(s) a utilizar, distribución y parámetros**\n",
        "- X: Resistencia de alambres en ohms de la compañia A\n",
        "\n",
        "- Distribución: Normal\n",
        "\n",
        "- Parámetros:\n",
        "  - $x_a$:0.12\n",
        "  - $x_b$:0.14\n",
        "  - $\\mu$= 0.13 ohms\n",
        "  - $\\sigma$= 0.01 ohms\n"
      ],
      "metadata": {
        "id": "TxYZBlE8wurG"
      }
    },
    {
      "cell_type": "code",
      "source": [
        "import numpy as np\n",
        "from scipy import stats\n",
        "import matplotlib.pyplot as plt\n",
        "\n",
        "# Usar el código original sin modificar\n",
        "#Datos\n",
        "u=0.13\n",
        "sigma=0.01\n",
        "xa=0.12\n",
        "xb=0.14\n",
        "\n",
        "'''Para que los alambres no cumplan las especificaciones de resistencia deben tener una resistencia menor a 0.12 ohms y mayor a 0.14 omhs'''\n",
        "\n",
        "'P(X<Xa)'\n",
        "pa= stats.norm.cdf(xa,u,sigma)\n",
        "\n",
        "'P(X>Xb)'\n",
        "pb=stats.norm.sf(xb,u,sigma)\n",
        "\n",
        "'P(X<Xa)+P(X>Xb)'\n",
        "prob= pa+pb\n",
        "print(f\"Probabilidad de que sea menor a las especificaciones es de : {pa:.4f} ({pa*100:.2f}%)\")\n",
        "print(f\"Probabilidad de que sea mayor a las especificaciones es de : {pb:.4f} ({pb*100:.2f}%)\")\n",
        "print(f\"Probabilidad de no cumplir especificaciones: {prob:.4f} ({prob*100:.2f}%)\")"
      ],
      "metadata": {
        "colab": {
          "base_uri": "https://localhost:8080/"
        },
        "id": "f8RYxk1Wy8Em",
        "outputId": "577414d4-0572-4b98-df4e-f88d65b4ae3e"
      },
      "execution_count": null,
      "outputs": [
        {
          "output_type": "stream",
          "name": "stdout",
          "text": [
            "Probabilidad de que sea menor a las especificaciones es de : 0.1587 (15.87%)\n",
            "Probabilidad de que sea mayor a las especificaciones es de : 0.1587 (15.87%)\n",
            "Probabilidad de no cumplir especificaciones: 0.3173 (31.73%)\n"
          ]
        }
      ]
    },
    {
      "cell_type": "markdown",
      "source": [
        "#**Ejercicio 2**\n",
        "\n",
        "En cierta ciudad, los agentes de tránsito realizan comparendos a los infractores cada día. Se sabe por experiencia que la suma de monto total día por comparendos que realiza un agente, es una variable aleatoria normal con media 2 millones y desviación estándar 300.000 pesos. Se decide que si el monto recaudado por el agente es superior a los 2.2 millones, este dinero se invertirá en educación, en caso contrario se quedará en la secretaría de movilidad. Si en un día en particular se seleccionan aleatoriamente 6 agentes de tránsito al final del día, la probabilidad de que por lo menos 5 de los recaudos de los agentes vayan para educación es?\n",
        "\n"
      ],
      "metadata": {
        "id": "PQsZ2hzW2AZ8"
      }
    },
    {
      "cell_type": "markdown",
      "source": [
        "## **Variable(s) a utilizar, distribución y parámetros**\n",
        "- X: Suma del monto total día por comparendos realizados por un agente en pesos.\n",
        "\n",
        "- Distribución: Normal\n",
        "\n",
        "- Parámetros:\n",
        "  - $\\mu$= 2.000.000\n",
        "  - $\\sigma$= 300.000\n",
        "\n",
        "- Y: Número de agentes que obtienen un monto superior a 2.2 millones\n",
        "\n",
        "- Distribución: Binomial\n",
        "\n",
        "- Condiciones:\n",
        "  - Si X > 2.2 millones se invierte en educación\n",
        "  - Si X =< 2.2 millones se queda en secretaría de movilidad.\n",
        "\n"
      ],
      "metadata": {
        "id": "dNUdVflX2THt"
      }
    },
    {
      "cell_type": "code",
      "source": [
        "#Datos\n",
        "u=2e6\n",
        "sigma=3e5\n",
        "x=2.2e6\n",
        "\n",
        "'''Debemos calcular inicialmente la probabilidad de obtener un monto total por comparendos mayor 2.2\n",
        "millones por agente y que este sea designado para educación'''\n",
        "\n",
        "p_e= norm.sf(x,u,sigma)\n",
        "\n",
        "print(f\"Probabilidad de obtener un monto superior a 2.2 millones por agente : {p_e*100:.2f}%\")\n",
        "\n",
        "'El numero de agentes que obtiene un monto superior a 2.2 millones sigue una distribución binomial'\n",
        "#Datos binomial\n",
        "n=6\n",
        "p=p_e\n",
        "y=5\n",
        "p_5e= binom.sf(y-1,n,p)\n",
        "\n",
        "print(f\"Probabilidad de que de 6 recaudos al menos 5 sean designados para educación es : {p_5e*100:.2f}%\")\n"
      ],
      "metadata": {
        "colab": {
          "base_uri": "https://localhost:8080/"
        },
        "id": "495vktUo4IQU",
        "outputId": "02e628b3-797e-435d-af2d-d2a346ee8ed2"
      },
      "execution_count": null,
      "outputs": [
        {
          "output_type": "stream",
          "name": "stdout",
          "text": [
            "Probabilidad de obtener un monto superior a 2.2 millones por agente : 25.25%\n",
            "Probabilidad de que de 6 recaudos al menos 5 sean designados para educación es : 0.49%\n"
          ]
        }
      ]
    },
    {
      "cell_type": "markdown",
      "source": [
        "#**Ejercicio 3**\n",
        "En la portería de la Universidad, se ha implementado el uso de un lector electrónico que permite el registro de ingreso de las personas a la universidad. Sin embargo, en un día cualquiera, la probabilidad de que el lector presente fallas es 0.1. Suponga que el lector funciona los 365 días del año. Sea X: el número de días en el año en los cuales el lector presenta fallas. La probabilidad aproximada de que X esté entre 30 <X <50 es:"
      ],
      "metadata": {
        "id": "GFvyHY256708"
      }
    },
    {
      "cell_type": "markdown",
      "source": [
        "## **Variable(s) a utilizar, distribución y parámetros**\n",
        "- X: Número de días en el año en los cuales el lector presenta fallas.\n",
        "- Distribución: Binomial\n",
        "\n",
        "- Parámetros:\n",
        "  - $p$= 0.1\n",
        "  - $n$= 365\n",
        "  - $x_a$=30\n",
        "  - $x_b$=50"
      ],
      "metadata": {
        "id": "rb_3fwGV7YoD"
      }
    },
    {
      "cell_type": "code",
      "source": [
        "#Datos\n",
        "n=365\n",
        "p=0.1\n",
        "xa=30\n",
        "xb=50\n",
        "\n",
        "prob=binom.cdf(xb,n,p)-binom.cdf(xa,n,p)\n",
        "print(f\"Probabilidad de que X este entre 30 y 50, (30<X<50) es: {prob*100:.2f}%\")\n"
      ],
      "metadata": {
        "colab": {
          "base_uri": "https://localhost:8080/"
        },
        "id": "IrelWThN7_zE",
        "outputId": "3a65c025-96fa-400f-935d-0830fe0026d8"
      },
      "execution_count": null,
      "outputs": [
        {
          "output_type": "stream",
          "name": "stdout",
          "text": [
            "Probabilidad de que X este entre 30 y 50, (30<X<50) es: 84.36%\n"
          ]
        }
      ]
    },
    {
      "cell_type": "markdown",
      "source": [
        "#**Ejercicio 4**\n",
        "Por experiencia se sabe que el 25% de los estudiantes de un curso, el cual se califica de 0 a 5, lo reprueban. Se sabe que las notas obtenidas por los estudiantes en dicho curso tienen una distribución normal con una nota media de 3.6. Si un estudiante termina el curso, la probabilidad de que su nota sea superior a 4 es?"
      ],
      "metadata": {
        "id": "gVHr558c9CUb"
      }
    },
    {
      "cell_type": "markdown",
      "source": [
        "## **Variable(s) a utilizar, distribución y parámetros**\n",
        "\n",
        "- X:Nota de estudiantes de un curso\n",
        "- Distribución: Normal  \n",
        "- Asumiendo que el curso se aprueba obteniendo una calificación mayor o igual a 3.0.\n",
        "\n",
        "- Parámetros:\n",
        "  - $\\mu$= 3.6\n",
        "  - $x_r$= 3.0\n",
        "  - $p_r$= 0.25\n",
        "\n"
      ],
      "metadata": {
        "id": "mwnF_unW9P9K"
      }
    },
    {
      "cell_type": "code",
      "source": [
        "#Datos\n",
        "u=3.6\n",
        "xr=3.0\n",
        "pr=0.25\n",
        "x=4.0\n",
        "\n",
        "#Calculamos el valor de percetil 25:\n",
        "per_25= norm.ppf(pr)\n",
        "\n",
        "# Despejar sigma\n",
        "sigma = (xr-u)/per_25\n",
        "\n",
        "#Conociendo sigma, calculamos la probabilidad de que X>4:\n",
        "\n",
        "p4= norm.sf(x,u,sigma)\n",
        "print(f\"Probabilidad de la nota de los estudiantes de un curso sea mayor a 4 es: {p4*100:.2f}%\")\n"
      ],
      "metadata": {
        "colab": {
          "base_uri": "https://localhost:8080/"
        },
        "id": "yxlwwNdU_e5w",
        "outputId": "b8468e54-4cc4-4d79-9b2a-5325dec6a7d5"
      },
      "execution_count": null,
      "outputs": [
        {
          "output_type": "stream",
          "name": "stdout",
          "text": [
            "Probabilidad de la nota de los estudiantes de un curso sea mayor a 4 es: 32.65%\n"
          ]
        }
      ]
    },
    {
      "cell_type": "markdown",
      "source": [
        "#**Ejercicio 5**\n",
        "Todos los días se seleccionan, de manera aleatoria, 15 unidades de un proceso de manufactura con el propósito de verificar el porcentaje de unidades defectuosas en la producción. Con base en información pasada, la probabilidad de tener una unidad defectuosa es de 0.05. La gerencia ha decidido detener la producción cada vez que una muestra de 15 unidades tenga dos o más defectuosas. La probabilidad de que en un mes cualquiera se detenga la producción un máximo de dos veces si la fábrica opera 25 días al mes es?"
      ],
      "metadata": {
        "id": "p7nWC92LAlcJ"
      }
    },
    {
      "cell_type": "markdown",
      "source": [
        "## **Variable(s) a utilizar, distribución y parámetros**\n",
        "- X:N° de unidades defectuosas en una muestra de 15 unidades,\n",
        "- Y: Días en que la producción se detiene en el mes.\n",
        "- Distribución: Binomial para X y para Y   \n",
        "\n",
        "- Parámetros:\n",
        "  - $n_x$= 15\n",
        "  - $p_x$= 0.05\n",
        "  - $n_y$= 25\n",
        "  "
      ],
      "metadata": {
        "id": "3EhG5sreA7Zw"
      }
    },
    {
      "cell_type": "code",
      "source": [
        "#Datos binomial X\n",
        "nx=15\n",
        "px=0.05\n",
        "x=2\n",
        "prob= binom.sf(x-1,nx,px)\n",
        "print(f\"Probabilidad de obtener 2 o mas unidades defectuosas en una muestra de 15 und es: {prob*100:.2f}%\")\n",
        "\n",
        "#Datos binomial Y\n",
        "ny=25\n",
        "py=prob\n",
        "y=2\n",
        "prob_d= binom.cdf(y,ny,py)\n",
        "print(f\"Probabilidad de detener la producción en el mes es: {prob_d*100:.2f}%\")"
      ],
      "metadata": {
        "colab": {
          "base_uri": "https://localhost:8080/"
        },
        "id": "LnxNE7fXCG8R",
        "outputId": "9ce73b06-2ed1-4c2b-eb70-f7b36fffe1d2"
      },
      "execution_count": null,
      "outputs": [
        {
          "output_type": "stream",
          "name": "stdout",
          "text": [
            "Probabilidad de obtener 2 o mas unidades defectuosas en una muestra de 15 und es: 17.10%\n",
            "Probabilidad de detener la producción en el mes es: 17.43%\n"
          ]
        }
      ]
    }
  ]
}