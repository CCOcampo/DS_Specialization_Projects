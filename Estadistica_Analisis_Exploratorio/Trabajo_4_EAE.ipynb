{
  "nbformat": 4,
  "nbformat_minor": 0,
  "metadata": {
    "colab": {
      "provenance": []
    },
    "kernelspec": {
      "name": "python3",
      "display_name": "Python 3"
    },
    "language_info": {
      "name": "python"
    }
  },
  "cells": [
    {
      "cell_type": "markdown",
      "source": [
        "<div style=\"display: flex; align-items: center; justify-content: center;\">\n",
        "    <img src=\"https://upload.wikimedia.org/wikipedia/commons/f/fb/Escudo-UdeA.svg\" width=\"150\" style=\"margin-right: 20px;\">\n",
        "    <div>\n",
        "\n",
        "# **Trabajo N° 4 - Estadistica y análisis exploratorio**\n",
        "\n",
        "### Cristhian Ocampo Bolivar\n",
        "### Maria Isabel Duque Buitrago\n",
        "### Leidy Estefanía Silva Torres"
      ],
      "metadata": {
        "id": "iUpoO0-U-nwO"
      }
    },
    {
      "cell_type": "markdown",
      "source": [
        "Utilizando su base de datos del trabajo # 3 realizar:\n",
        "\n",
        "1) Identificación de las observaciones atípicas (outliers), Puntos de balanceo, Observaciones influenciales. Analice si debe eliminarlas en el contexto dado.\n",
        "\n",
        "2) Tenga en cuanta la multicolinealidad del trabajo 3. Explique.\n",
        "\n",
        "3) Seleccione el mejor modelo manualmente. Explique.\n",
        "\n",
        "4) Realice la validación de los supuestos de los residuales del modelo seleccionado."
      ],
      "metadata": {
        "id": "VOVgPFuT-wzs"
      }
    },
    {
      "cell_type": "code",
      "source": [
        "import numpy as np\n",
        "import pandas as pd\n",
        "import matplotlib.pyplot as plt\n",
        "from scipy import stats\n",
        "import statsmodels.api as sm\n",
        "import statsmodels.formula.api as smf\n",
        "import seaborn as sns"
      ],
      "metadata": {
        "id": "moZhVd5E-mrf"
      },
      "execution_count": null,
      "outputs": []
    },
    {
      "cell_type": "markdown",
      "source": [
        "$Y$: Riesgo de infección. Probabilidad promedio estimada de adquirir infección en el hospital (en porcentaje).\n",
        "\n",
        "$X1$: Duración de la estadía. Duración promedio de la estadía de todos los pacientes en el hospital (en días).\n",
        "\n",
        "$X2$: Rutina de cultivos. Razón del número de cultivos realizados en pacientes sin síntomas de infección hospitalaria, por cada 100.\n",
        "\n",
        "$X3$: Número de camas. Número promedio de camas en el hospital durante el periodo del estudio\n",
        "\n",
        "$X4$: Censo promedio diario. Número promedio de pacientes en el hospital por día durante el periodo del estudio.\n",
        "\n",
        "$X5$: Número de enfermeras. Número promedio de enfermeras, equivalentes a tiempo completo, durante el periodo\n",
        "del estudio."
      ],
      "metadata": {
        "id": "IbI_oJ8aCZTX"
      }
    },
    {
      "cell_type": "code",
      "source": [
        "df = pd.read_csv(\"/content/DatosTrabajo3EAE20251.txt\", delimiter=\" \")\n",
        "df.head()"
      ],
      "metadata": {
        "colab": {
          "base_uri": "https://localhost:8080/",
          "height": 206
        },
        "id": "plO5spjl_g9O",
        "outputId": "3402d276-6df1-4355-f7cc-3ac996cb4f78"
      },
      "execution_count": null,
      "outputs": [
        {
          "output_type": "execute_result",
          "data": {
            "text/plain": [
              "     Y     X1    X2    X3     X4   X5\n",
              "0  3.1   9.41  59.5  20.6   91.7   29\n",
              "1  4.1  10.47  53.2   5.7   69.1  196\n",
              "2  3.2   8.19  52.1  10.8   59.2  176\n",
              "3  7.7  12.78  56.8  46.0  116.9  322\n",
              "4  7.8  12.07  43.7  52.4  105.3  157"
            ],
            "text/html": [
              "\n",
              "  <div id=\"df-1a50c1ad-6f8a-491b-b26b-a6026b7df9d5\" class=\"colab-df-container\">\n",
              "    <div>\n",
              "<style scoped>\n",
              "    .dataframe tbody tr th:only-of-type {\n",
              "        vertical-align: middle;\n",
              "    }\n",
              "\n",
              "    .dataframe tbody tr th {\n",
              "        vertical-align: top;\n",
              "    }\n",
              "\n",
              "    .dataframe thead th {\n",
              "        text-align: right;\n",
              "    }\n",
              "</style>\n",
              "<table border=\"1\" class=\"dataframe\">\n",
              "  <thead>\n",
              "    <tr style=\"text-align: right;\">\n",
              "      <th></th>\n",
              "      <th>Y</th>\n",
              "      <th>X1</th>\n",
              "      <th>X2</th>\n",
              "      <th>X3</th>\n",
              "      <th>X4</th>\n",
              "      <th>X5</th>\n",
              "    </tr>\n",
              "  </thead>\n",
              "  <tbody>\n",
              "    <tr>\n",
              "      <th>0</th>\n",
              "      <td>3.1</td>\n",
              "      <td>9.41</td>\n",
              "      <td>59.5</td>\n",
              "      <td>20.6</td>\n",
              "      <td>91.7</td>\n",
              "      <td>29</td>\n",
              "    </tr>\n",
              "    <tr>\n",
              "      <th>1</th>\n",
              "      <td>4.1</td>\n",
              "      <td>10.47</td>\n",
              "      <td>53.2</td>\n",
              "      <td>5.7</td>\n",
              "      <td>69.1</td>\n",
              "      <td>196</td>\n",
              "    </tr>\n",
              "    <tr>\n",
              "      <th>2</th>\n",
              "      <td>3.2</td>\n",
              "      <td>8.19</td>\n",
              "      <td>52.1</td>\n",
              "      <td>10.8</td>\n",
              "      <td>59.2</td>\n",
              "      <td>176</td>\n",
              "    </tr>\n",
              "    <tr>\n",
              "      <th>3</th>\n",
              "      <td>7.7</td>\n",
              "      <td>12.78</td>\n",
              "      <td>56.8</td>\n",
              "      <td>46.0</td>\n",
              "      <td>116.9</td>\n",
              "      <td>322</td>\n",
              "    </tr>\n",
              "    <tr>\n",
              "      <th>4</th>\n",
              "      <td>7.8</td>\n",
              "      <td>12.07</td>\n",
              "      <td>43.7</td>\n",
              "      <td>52.4</td>\n",
              "      <td>105.3</td>\n",
              "      <td>157</td>\n",
              "    </tr>\n",
              "  </tbody>\n",
              "</table>\n",
              "</div>\n",
              "    <div class=\"colab-df-buttons\">\n",
              "\n",
              "  <div class=\"colab-df-container\">\n",
              "    <button class=\"colab-df-convert\" onclick=\"convertToInteractive('df-1a50c1ad-6f8a-491b-b26b-a6026b7df9d5')\"\n",
              "            title=\"Convert this dataframe to an interactive table.\"\n",
              "            style=\"display:none;\">\n",
              "\n",
              "  <svg xmlns=\"http://www.w3.org/2000/svg\" height=\"24px\" viewBox=\"0 -960 960 960\">\n",
              "    <path d=\"M120-120v-720h720v720H120Zm60-500h600v-160H180v160Zm220 220h160v-160H400v160Zm0 220h160v-160H400v160ZM180-400h160v-160H180v160Zm440 0h160v-160H620v160ZM180-180h160v-160H180v160Zm440 0h160v-160H620v160Z\"/>\n",
              "  </svg>\n",
              "    </button>\n",
              "\n",
              "  <style>\n",
              "    .colab-df-container {\n",
              "      display:flex;\n",
              "      gap: 12px;\n",
              "    }\n",
              "\n",
              "    .colab-df-convert {\n",
              "      background-color: #E8F0FE;\n",
              "      border: none;\n",
              "      border-radius: 50%;\n",
              "      cursor: pointer;\n",
              "      display: none;\n",
              "      fill: #1967D2;\n",
              "      height: 32px;\n",
              "      padding: 0 0 0 0;\n",
              "      width: 32px;\n",
              "    }\n",
              "\n",
              "    .colab-df-convert:hover {\n",
              "      background-color: #E2EBFA;\n",
              "      box-shadow: 0px 1px 2px rgba(60, 64, 67, 0.3), 0px 1px 3px 1px rgba(60, 64, 67, 0.15);\n",
              "      fill: #174EA6;\n",
              "    }\n",
              "\n",
              "    .colab-df-buttons div {\n",
              "      margin-bottom: 4px;\n",
              "    }\n",
              "\n",
              "    [theme=dark] .colab-df-convert {\n",
              "      background-color: #3B4455;\n",
              "      fill: #D2E3FC;\n",
              "    }\n",
              "\n",
              "    [theme=dark] .colab-df-convert:hover {\n",
              "      background-color: #434B5C;\n",
              "      box-shadow: 0px 1px 3px 1px rgba(0, 0, 0, 0.15);\n",
              "      filter: drop-shadow(0px 1px 2px rgba(0, 0, 0, 0.3));\n",
              "      fill: #FFFFFF;\n",
              "    }\n",
              "  </style>\n",
              "\n",
              "    <script>\n",
              "      const buttonEl =\n",
              "        document.querySelector('#df-1a50c1ad-6f8a-491b-b26b-a6026b7df9d5 button.colab-df-convert');\n",
              "      buttonEl.style.display =\n",
              "        google.colab.kernel.accessAllowed ? 'block' : 'none';\n",
              "\n",
              "      async function convertToInteractive(key) {\n",
              "        const element = document.querySelector('#df-1a50c1ad-6f8a-491b-b26b-a6026b7df9d5');\n",
              "        const dataTable =\n",
              "          await google.colab.kernel.invokeFunction('convertToInteractive',\n",
              "                                                    [key], {});\n",
              "        if (!dataTable) return;\n",
              "\n",
              "        const docLinkHtml = 'Like what you see? Visit the ' +\n",
              "          '<a target=\"_blank\" href=https://colab.research.google.com/notebooks/data_table.ipynb>data table notebook</a>'\n",
              "          + ' to learn more about interactive tables.';\n",
              "        element.innerHTML = '';\n",
              "        dataTable['output_type'] = 'display_data';\n",
              "        await google.colab.output.renderOutput(dataTable, element);\n",
              "        const docLink = document.createElement('div');\n",
              "        docLink.innerHTML = docLinkHtml;\n",
              "        element.appendChild(docLink);\n",
              "      }\n",
              "    </script>\n",
              "  </div>\n",
              "\n",
              "\n",
              "<div id=\"df-4c8e4d8f-cf36-4c32-8a6b-626dfc48533e\">\n",
              "  <button class=\"colab-df-quickchart\" onclick=\"quickchart('df-4c8e4d8f-cf36-4c32-8a6b-626dfc48533e')\"\n",
              "            title=\"Suggest charts\"\n",
              "            style=\"display:none;\">\n",
              "\n",
              "<svg xmlns=\"http://www.w3.org/2000/svg\" height=\"24px\"viewBox=\"0 0 24 24\"\n",
              "     width=\"24px\">\n",
              "    <g>\n",
              "        <path d=\"M19 3H5c-1.1 0-2 .9-2 2v14c0 1.1.9 2 2 2h14c1.1 0 2-.9 2-2V5c0-1.1-.9-2-2-2zM9 17H7v-7h2v7zm4 0h-2V7h2v10zm4 0h-2v-4h2v4z\"/>\n",
              "    </g>\n",
              "</svg>\n",
              "  </button>\n",
              "\n",
              "<style>\n",
              "  .colab-df-quickchart {\n",
              "      --bg-color: #E8F0FE;\n",
              "      --fill-color: #1967D2;\n",
              "      --hover-bg-color: #E2EBFA;\n",
              "      --hover-fill-color: #174EA6;\n",
              "      --disabled-fill-color: #AAA;\n",
              "      --disabled-bg-color: #DDD;\n",
              "  }\n",
              "\n",
              "  [theme=dark] .colab-df-quickchart {\n",
              "      --bg-color: #3B4455;\n",
              "      --fill-color: #D2E3FC;\n",
              "      --hover-bg-color: #434B5C;\n",
              "      --hover-fill-color: #FFFFFF;\n",
              "      --disabled-bg-color: #3B4455;\n",
              "      --disabled-fill-color: #666;\n",
              "  }\n",
              "\n",
              "  .colab-df-quickchart {\n",
              "    background-color: var(--bg-color);\n",
              "    border: none;\n",
              "    border-radius: 50%;\n",
              "    cursor: pointer;\n",
              "    display: none;\n",
              "    fill: var(--fill-color);\n",
              "    height: 32px;\n",
              "    padding: 0;\n",
              "    width: 32px;\n",
              "  }\n",
              "\n",
              "  .colab-df-quickchart:hover {\n",
              "    background-color: var(--hover-bg-color);\n",
              "    box-shadow: 0 1px 2px rgba(60, 64, 67, 0.3), 0 1px 3px 1px rgba(60, 64, 67, 0.15);\n",
              "    fill: var(--button-hover-fill-color);\n",
              "  }\n",
              "\n",
              "  .colab-df-quickchart-complete:disabled,\n",
              "  .colab-df-quickchart-complete:disabled:hover {\n",
              "    background-color: var(--disabled-bg-color);\n",
              "    fill: var(--disabled-fill-color);\n",
              "    box-shadow: none;\n",
              "  }\n",
              "\n",
              "  .colab-df-spinner {\n",
              "    border: 2px solid var(--fill-color);\n",
              "    border-color: transparent;\n",
              "    border-bottom-color: var(--fill-color);\n",
              "    animation:\n",
              "      spin 1s steps(1) infinite;\n",
              "  }\n",
              "\n",
              "  @keyframes spin {\n",
              "    0% {\n",
              "      border-color: transparent;\n",
              "      border-bottom-color: var(--fill-color);\n",
              "      border-left-color: var(--fill-color);\n",
              "    }\n",
              "    20% {\n",
              "      border-color: transparent;\n",
              "      border-left-color: var(--fill-color);\n",
              "      border-top-color: var(--fill-color);\n",
              "    }\n",
              "    30% {\n",
              "      border-color: transparent;\n",
              "      border-left-color: var(--fill-color);\n",
              "      border-top-color: var(--fill-color);\n",
              "      border-right-color: var(--fill-color);\n",
              "    }\n",
              "    40% {\n",
              "      border-color: transparent;\n",
              "      border-right-color: var(--fill-color);\n",
              "      border-top-color: var(--fill-color);\n",
              "    }\n",
              "    60% {\n",
              "      border-color: transparent;\n",
              "      border-right-color: var(--fill-color);\n",
              "    }\n",
              "    80% {\n",
              "      border-color: transparent;\n",
              "      border-right-color: var(--fill-color);\n",
              "      border-bottom-color: var(--fill-color);\n",
              "    }\n",
              "    90% {\n",
              "      border-color: transparent;\n",
              "      border-bottom-color: var(--fill-color);\n",
              "    }\n",
              "  }\n",
              "</style>\n",
              "\n",
              "  <script>\n",
              "    async function quickchart(key) {\n",
              "      const quickchartButtonEl =\n",
              "        document.querySelector('#' + key + ' button');\n",
              "      quickchartButtonEl.disabled = true;  // To prevent multiple clicks.\n",
              "      quickchartButtonEl.classList.add('colab-df-spinner');\n",
              "      try {\n",
              "        const charts = await google.colab.kernel.invokeFunction(\n",
              "            'suggestCharts', [key], {});\n",
              "      } catch (error) {\n",
              "        console.error('Error during call to suggestCharts:', error);\n",
              "      }\n",
              "      quickchartButtonEl.classList.remove('colab-df-spinner');\n",
              "      quickchartButtonEl.classList.add('colab-df-quickchart-complete');\n",
              "    }\n",
              "    (() => {\n",
              "      let quickchartButtonEl =\n",
              "        document.querySelector('#df-4c8e4d8f-cf36-4c32-8a6b-626dfc48533e button');\n",
              "      quickchartButtonEl.style.display =\n",
              "        google.colab.kernel.accessAllowed ? 'block' : 'none';\n",
              "    })();\n",
              "  </script>\n",
              "</div>\n",
              "\n",
              "    </div>\n",
              "  </div>\n"
            ],
            "application/vnd.google.colaboratory.intrinsic+json": {
              "type": "dataframe",
              "variable_name": "df",
              "summary": "{\n  \"name\": \"df\",\n  \"rows\": 74,\n  \"fields\": [\n    {\n      \"column\": \"Y\",\n      \"properties\": {\n        \"dtype\": \"number\",\n        \"std\": 1.4067036836554367,\n        \"min\": 1.3,\n        \"max\": 7.8,\n        \"num_unique_values\": 39,\n        \"samples\": [\n          4.4,\n          5.2,\n          7.8\n        ],\n        \"semantic_type\": \"\",\n        \"description\": \"\"\n      }\n    },\n    {\n      \"column\": \"X1\",\n      \"properties\": {\n        \"dtype\": \"number\",\n        \"std\": 1.8800400605828906,\n        \"min\": 7.13,\n        \"max\": 19.56,\n        \"num_unique_values\": 71,\n        \"samples\": [\n          8.77,\n          9.41,\n          8.45\n        ],\n        \"semantic_type\": \"\",\n        \"description\": \"\"\n      }\n    },\n    {\n      \"column\": \"X2\",\n      \"properties\": {\n        \"dtype\": \"number\",\n        \"std\": 4.647486013915179,\n        \"min\": 38.8,\n        \"max\": 65.9,\n        \"num_unique_values\": 58,\n        \"samples\": [\n          59.5,\n          52.0,\n          50.5\n        ],\n        \"semantic_type\": \"\",\n        \"description\": \"\"\n      }\n    },\n    {\n      \"column\": \"X3\",\n      \"properties\": {\n        \"dtype\": \"number\",\n        \"std\": 10.913767887745724,\n        \"min\": 1.6,\n        \"max\": 60.5,\n        \"num_unique_values\": 69,\n        \"samples\": [\n          30.2,\n          20.6,\n          12.2\n        ],\n        \"semantic_type\": \"\",\n        \"description\": \"\"\n      }\n    },\n    {\n      \"column\": \"X4\",\n      \"properties\": {\n        \"dtype\": \"number\",\n        \"std\": 19.84216137450372,\n        \"min\": 39.6,\n        \"max\": 133.5,\n        \"num_unique_values\": 67,\n        \"samples\": [\n          99.2,\n          76.5,\n          105.3\n        ],\n        \"semantic_type\": \"\",\n        \"description\": \"\"\n      }\n    },\n    {\n      \"column\": \"X5\",\n      \"properties\": {\n        \"dtype\": \"number\",\n        \"std\": 189,\n        \"min\": 29,\n        \"max\": 831,\n        \"num_unique_values\": 69,\n        \"samples\": [\n          170,\n          29,\n          235\n        ],\n        \"semantic_type\": \"\",\n        \"description\": \"\"\n      }\n    }\n  ]\n}"
            }
          },
          "metadata": {},
          "execution_count": 31
        }
      ]
    },
    {
      "cell_type": "code",
      "source": [
        "x = df[['X1','X2','X3','X4','X5']].values\n",
        "y = df['Y']\n",
        "\n",
        "X = sm.add_constant(x)\n",
        "modelo = sm.OLS(y, X)\n",
        "resultados = modelo.fit()\n",
        "print(resultados.summary())"
      ],
      "metadata": {
        "colab": {
          "base_uri": "https://localhost:8080/"
        },
        "id": "-pZKh4BMAAsM",
        "outputId": "0eed5f56-c293-4b30-a0bb-b13f876ba1f0"
      },
      "execution_count": null,
      "outputs": [
        {
          "output_type": "stream",
          "name": "stdout",
          "text": [
            "                            OLS Regression Results                            \n",
            "==============================================================================\n",
            "Dep. Variable:                      Y   R-squared:                       0.488\n",
            "Model:                            OLS   Adj. R-squared:                  0.450\n",
            "Method:                 Least Squares   F-statistic:                     12.95\n",
            "Date:                Wed, 02 Apr 2025   Prob (F-statistic):           7.46e-09\n",
            "Time:                        01:40:42   Log-Likelihood:                -105.00\n",
            "No. Observations:                  74   AIC:                             222.0\n",
            "Df Residuals:                      68   BIC:                             235.8\n",
            "Df Model:                           5                                         \n",
            "Covariance Type:            nonrobust                                         \n",
            "==============================================================================\n",
            "                 coef    std err          t      P>|t|      [0.025      0.975]\n",
            "------------------------------------------------------------------------------\n",
            "const          0.3199      1.606      0.199      0.843      -2.884       3.524\n",
            "x1             0.2511      0.083      3.034      0.003       0.086       0.416\n",
            "x2            -0.0009      0.030     -0.029      0.977      -0.061       0.059\n",
            "x3             0.0443      0.014      3.197      0.002       0.017       0.072\n",
            "x4             0.0064      0.008      0.832      0.408      -0.009       0.022\n",
            "x5             0.0017      0.001      2.437      0.017       0.000       0.003\n",
            "==============================================================================\n",
            "Omnibus:                        0.904   Durbin-Watson:                   2.092\n",
            "Prob(Omnibus):                  0.636   Jarque-Bera (JB):                0.942\n",
            "Skew:                           0.135   Prob(JB):                        0.624\n",
            "Kurtosis:                       2.518   Cond. No.                     4.47e+03\n",
            "==============================================================================\n",
            "\n",
            "Notes:\n",
            "[1] Standard Errors assume that the covariance matrix of the errors is correctly specified.\n",
            "[2] The condition number is large, 4.47e+03. This might indicate that there are\n",
            "strong multicollinearity or other numerical problems.\n"
          ]
        }
      ]
    },
    {
      "cell_type": "markdown",
      "source": [
        "**1.A Identificación de observaciones atipicas**"
      ],
      "metadata": {
        "id": "RqkFP4NPA37A"
      }
    },
    {
      "cell_type": "code",
      "source": [
        "import numpy as np\n",
        "import statsmodels.api as sm\n",
        "\n",
        "X = sm.add_constant(X)\n",
        "\n",
        "modelo = sm.OLS(y, X)\n",
        "resultados = modelo.fit()\n",
        "residuos = resultados.resid\n",
        "mse_resid = resultados.mse_resid\n",
        "print(\"MSE de los residuos:\", mse_resid)\n",
        "desv = np.sqrt(mse_resid)\n",
        "residuos_estand = residuos / desv\n",
        "\n",
        "\n",
        "print(\"Residuos estandarizados:\\n\", residuos_estand)"
      ],
      "metadata": {
        "colab": {
          "base_uri": "https://localhost:8080/"
        },
        "id": "Bpi2TS3LFDE4",
        "outputId": "47fd6c7d-1f11-4cb1-bf96-a25ecf9ae21f"
      },
      "execution_count": null,
      "outputs": [
        {
          "output_type": "stream",
          "name": "stdout",
          "text": [
            "MSE de los residuos: 1.0883103438001405\n",
            "Residuos estandarizados:\n",
            " 0    -1.038698\n",
            "1     0.158615\n",
            "2    -0.278752\n",
            "3     0.845871\n",
            "4     1.171372\n",
            "        ...   \n",
            "69    0.161171\n",
            "70    0.897874\n",
            "71    0.991978\n",
            "72    0.395517\n",
            "73   -1.924949\n",
            "Length: 74, dtype: float64\n"
          ]
        }
      ]
    },
    {
      "cell_type": "code",
      "source": [
        "# Residuos Estudiantizados\n",
        "residuos_estudiantizados_int = resultados.get_influence().resid_studentized_internal\n",
        "print(residuos_estudiantizados_int)"
      ],
      "metadata": {
        "colab": {
          "base_uri": "https://localhost:8080/"
        },
        "id": "_w_rrTDkAdZ9",
        "outputId": "beb8bf09-86d5-4972-bd75-87d3e358e4d4"
      },
      "execution_count": null,
      "outputs": [
        {
          "output_type": "stream",
          "name": "stdout",
          "text": [
            "[-1.0779967   0.16240984 -0.28382917  0.91864467  1.3234921  -0.79673329\n",
            " -0.70534474 -0.81106574 -1.5106596  -0.89045849 -0.80286735 -1.59798385\n",
            "  2.13720066 -0.70349987 -1.60348637  0.54772151 -1.32200682 -0.28719513\n",
            " -0.36353776 -0.19569984 -1.43904246  1.29495748  1.43384558 -0.39237153\n",
            " -0.16733821 -1.43902964  0.11426962  0.57777811  2.21479282 -0.20026564\n",
            " -1.79668355  1.7117355  -0.74173403  0.80659421  2.01870873  0.15118981\n",
            "  0.91511231  0.41610849 -1.89642008  1.19161613 -1.20485352  0.39795855\n",
            " -0.75309687 -0.0212961   0.09163183  0.39734726  1.37393148  0.40321216\n",
            "  0.7366901  -0.56275356 -0.11559934  0.98114363 -0.71228552  1.81984021\n",
            "  0.61814175 -0.45601672 -0.36024991  0.34630332  0.40061144 -0.12791782\n",
            " -0.58519657 -0.41914202  0.36457652 -0.08877919 -1.30777296  0.18682656\n",
            " -0.6453699   0.54282185  0.9662325   0.16430744  0.90984582  1.00955631\n",
            "  0.40633057 -2.32689632]\n"
          ]
        }
      ]
    },
    {
      "cell_type": "code",
      "source": [
        "# Residuos Estudiantizados\n",
        "residuos_estudiantizados_ext = resultados.get_influence().resid_studentized_external\n",
        "print(residuos_estudiantizados_ext)"
      ],
      "metadata": {
        "colab": {
          "base_uri": "https://localhost:8080/"
        },
        "id": "jvH9fdi9FZog",
        "outputId": "d470f82f-9291-4883-f08a-a242066c4c79"
      },
      "execution_count": null,
      "outputs": [
        {
          "output_type": "stream",
          "name": "stdout",
          "text": [
            "[-1.07930294  0.16124251 -0.28190149  0.91757644  1.33097887 -0.79457063\n",
            " -0.70271454 -0.80900257 -1.52532417 -0.88908555 -0.80074637 -1.6168389\n",
            "  2.19647983 -0.70086306 -1.62262473  0.5448825  -1.32944576 -0.28524863\n",
            " -0.36120597 -0.19431027 -1.45068209  1.30154908  1.44527953 -0.38991741\n",
            " -0.16613744 -1.45066876  0.11343719  0.57492696  2.28230716 -0.19884629\n",
            " -1.82732409  1.73693587 -0.73925653  0.8044992   2.06669469  0.15009923\n",
            "  0.91400411  0.4135644  -1.93426915  1.19536824 -1.20893535  0.39548236\n",
            " -0.75067595 -0.02113901  0.09096119  0.39487345  1.38312459  0.4007157\n",
            "  0.73418887 -0.55990566 -0.11475747  0.98087021 -0.70968116  1.85207337\n",
            "  0.61531094 -0.45334495 -0.35793293  0.34405106  0.39812495 -0.12698905\n",
            " -0.58234594 -0.41658716  0.36224008 -0.0881291  -1.31476045  0.18549536\n",
            " -0.64257789  0.53998693  0.9657541   0.16312721  0.90867898  1.00970102\n",
            "  0.40382232 -2.40756147]\n"
          ]
        }
      ]
    },
    {
      "cell_type": "code",
      "source": [
        "# Indices de valores atipos con un umbral de 3 con Residuos Estandarizados\n",
        "umbral = 3\n",
        "atipicos = np.where(abs(residuos_estand) > umbral)[0]\n",
        "print(\"Índices de valores atípicos:\", atipicos)"
      ],
      "metadata": {
        "colab": {
          "base_uri": "https://localhost:8080/"
        },
        "id": "U0m4ipKdAn8Q",
        "outputId": "aaf612a8-c7bf-4398-97ce-1fc66091ba5e"
      },
      "execution_count": null,
      "outputs": [
        {
          "output_type": "stream",
          "name": "stdout",
          "text": [
            "Índices de valores atípicos: []\n"
          ]
        }
      ]
    },
    {
      "cell_type": "code",
      "source": [
        "# Indices de valores atipos con un umbral de 3 con Residuos Estudiantizados\n",
        "umbral = 3\n",
        "atipicos = np.where(abs(residuos_estudiantizados_int) > umbral)[0]\n",
        "print(\"Índices de valores atípicos:\", atipicos)"
      ],
      "metadata": {
        "colab": {
          "base_uri": "https://localhost:8080/"
        },
        "id": "gkCh3MBQBQhs",
        "outputId": "679037a1-38a9-40ee-9145-06253fc8581c"
      },
      "execution_count": null,
      "outputs": [
        {
          "output_type": "stream",
          "name": "stdout",
          "text": [
            "Índices de valores atípicos: []\n"
          ]
        }
      ]
    },
    {
      "cell_type": "code",
      "source": [
        "# Indices de valores atipos con un umbral de 3 con Residuos Estudiantizados\n",
        "umbral = 3\n",
        "atipicos = np.where(abs(residuos_estudiantizados_ext) > umbral)[0]\n",
        "print(\"Índices de valores atípicos:\", atipicos)"
      ],
      "metadata": {
        "colab": {
          "base_uri": "https://localhost:8080/"
        },
        "id": "lN1aYQk2DiwI",
        "outputId": "463e9283-3a0f-4b48-b238-eb0c262fd0f6"
      },
      "execution_count": null,
      "outputs": [
        {
          "output_type": "stream",
          "name": "stdout",
          "text": [
            "Índices de valores atípicos: []\n"
          ]
        }
      ]
    },
    {
      "cell_type": "markdown",
      "source": [
        "A partir del calculo de residuos estandarizados y residuos estudiantizados se establece que no existen observaciones atípicas para el umbral dado."
      ],
      "metadata": {
        "id": "CX-7wId6hNlT"
      }
    },
    {
      "cell_type": "markdown",
      "source": [
        "**1.B Identificación de puntos de balanceo**"
      ],
      "metadata": {
        "id": "MCLjdurBB5A_"
      }
    },
    {
      "cell_type": "code",
      "source": [
        "h_i = resultados.get_influence().hat_matrix_diag\n",
        "\n",
        "n = X.shape[0]\n",
        "k = X.shape[1] -1\n",
        "umbral = 2 * (k + 1) / n\n",
        "\n",
        "puntos_balanceo = np.where(h_i > umbral)[0]\n",
        "\n",
        "print(\"Puntos de balanceo (índices):\", puntos_balanceo)\n"
      ],
      "metadata": {
        "colab": {
          "base_uri": "https://localhost:8080/"
        },
        "id": "W285KA4rBoZt",
        "outputId": "02883df3-107d-4a07-f567-7afb75bb762c"
      },
      "execution_count": null,
      "outputs": [
        {
          "output_type": "stream",
          "name": "stdout",
          "text": [
            "Puntos de balanceo (índices): [ 4  9 14 18 25 48 49 73]\n"
          ]
        }
      ]
    },
    {
      "cell_type": "markdown",
      "source": [
        "**1.C Identificación de Influenciales**"
      ],
      "metadata": {
        "id": "YdAsx2AuDQUf"
      }
    },
    {
      "cell_type": "code",
      "source": [
        "X = sm.add_constant(x)\n",
        "modelo = sm.OLS(y, X)\n",
        "resultados = modelo.fit()\n",
        "influencia = resultados.get_influence()\n",
        "distancia_cook = influencia.cooks_distance[0]\n",
        "print(\"Distancia de Cook:\", distancia_cook)\n",
        "umbral = 1\n",
        "atipicos = np.where(abs(distancia_cook) > umbral)[0]\n",
        "print(\"Índices de valores atípicos:\", atipicos)"
      ],
      "metadata": {
        "colab": {
          "base_uri": "https://localhost:8080/"
        },
        "id": "-sJLcc4_CGZt",
        "outputId": "b94821e2-0630-415b-b373-5700d3445a0d"
      },
      "execution_count": null,
      "outputs": [
        {
          "output_type": "stream",
          "name": "stdout",
          "text": [
            "Distancia de Cook: [1.49326242e-02 2.12870878e-04 4.93517269e-04 2.52426014e-02\n",
            " 8.07486486e-02 8.37003069e-03 6.36728513e-03 6.35784301e-03\n",
            " 2.73805139e-02 1.03995270e-01 7.66082064e-03 3.71776004e-02\n",
            " 1.36467288e-02 9.10845900e-03 9.78334672e-02 4.65891808e-03\n",
            " 1.28094937e-02 5.40993220e-04 4.85084374e-03 1.42151676e-04\n",
            " 1.87447129e-02 2.16490460e-02 2.28527078e-02 1.76691827e-03\n",
            " 6.34802238e-04 7.77712975e-02 1.48952595e-04 2.22768643e-03\n",
            " 9.17277372e-02 3.41108060e-04 3.92497874e-02 1.80445730e-02\n",
            " 4.57233837e-03 5.82583163e-03 2.62589881e-02 3.08517742e-04\n",
            " 1.43611782e-02 3.31072912e-03 3.80276107e-02 1.13380872e-02\n",
            " 1.82393359e-02 1.37831966e-03 1.23359812e-02 1.28680210e-05\n",
            " 1.14652854e-04 9.12570281e-04 2.93622860e-02 1.57498116e-03\n",
            " 2.61611518e-02 1.26525215e-02 9.76497276e-05 8.19416142e-03\n",
            " 7.21766952e-03 4.74604193e-02 7.26536029e-03 1.36262394e-03\n",
            " 4.82512584e-04 3.29012039e-03 7.03043941e-04 1.26747117e-04\n",
            " 3.45008535e-03 1.95191078e-03 5.43746611e-04 4.66130408e-05\n",
            " 1.32693062e-02 3.93305881e-04 2.12807098e-03 3.13570247e-03\n",
            " 3.21062369e-03 1.76818059e-04 3.70378003e-03 6.07366638e-03\n",
            " 1.52519711e-03 4.16208333e-01]\n",
            "Índices de valores atípicos: []\n"
          ]
        }
      ]
    },
    {
      "cell_type": "code",
      "source": [
        "dffits = resultados.get_influence().dffits[0]\n",
        "print(\"DFFITS:\", dffits)\n",
        "umbral_dffits = 2 * np.sqrt((k + 1) / n)\n",
        "observaciones_influyentes = np.where(np.abs(dffits) > umbral_dffits)[0]\n",
        "print(\"Observaciones influyentes (índices):\", observaciones_influyentes)"
      ],
      "metadata": {
        "colab": {
          "base_uri": "https://localhost:8080/"
        },
        "id": "t4xtssqmDcNN",
        "outputId": "a4a30100-598c-4f04-8140-207784413e0c"
      },
      "execution_count": null,
      "outputs": [
        {
          "output_type": "stream",
          "name": "stdout",
          "text": [
            "DFFITS: [-0.29968818  0.03548142 -0.05404645  0.38872044  0.69999198 -0.22349031\n",
            " -0.19472884 -0.19481588 -0.40925308 -0.78870082 -0.21382794 -0.47787099\n",
            "  0.29408429 -0.23289879 -0.77530425  0.16632641 -0.27879086 -0.05658718\n",
            " -0.16950779 -0.02899726 -0.33807547  0.36224304  0.37324494 -0.10231964\n",
            " -0.06127273 -0.68862664  0.02967729  0.11504142  0.76448145 -0.04491927\n",
            " -0.49355808  0.33388435 -0.16507898  0.18647693  0.40636592  0.04271414\n",
            "  0.2931868   0.14007932 -0.48720025  0.26164405 -0.33193188  0.09037324\n",
            " -0.27118404 -0.008722    0.02603621  0.07353541  0.42253899  0.09660866\n",
            "  0.39484534 -0.27413266 -0.02402906  0.22166996 -0.20734009  0.54308316\n",
            "  0.20783121 -0.08989006 -0.05345985  0.1395879   0.06454505 -0.02737662\n",
            " -0.14317587 -0.10755987  0.05675207 -0.01660112 -0.28367039  0.048232\n",
            " -0.11250861  0.13644857  0.13872516  0.03233762  0.14888155  0.19092524\n",
            "  0.0950713  -1.63505122]\n",
            "Observaciones influyentes (índices): [ 4  9 14 25 28 73]\n"
          ]
        }
      ]
    },
    {
      "cell_type": "markdown",
      "source": [
        "Se realiza la eliminación de los puntos de balanceo hayados para evaluar su impacto en R^2 y R^2 ajustado:"
      ],
      "metadata": {
        "id": "TiuOZThghi8a"
      }
    },
    {
      "cell_type": "code",
      "source": [
        "indices_a_eliminar = [4, 9, 14, 18, 25, 48, 49, 73]\n",
        "df_filtrado = df.drop(indices_a_eliminar)\n",
        "\n",
        "x = df_filtrado[['X1','X2','X3','X4','X5']].values\n",
        "y = df_filtrado['Y']\n",
        "\n",
        "X = sm.add_constant(x)\n",
        "modelopb = sm.OLS(y, X)\n",
        "resultadospb = modelopb.fit()\n",
        "print(resultadospb.summary())\n",
        "\n"
      ],
      "metadata": {
        "colab": {
          "base_uri": "https://localhost:8080/"
        },
        "id": "lD1wQc3iHmyn",
        "outputId": "4311a9b9-e767-48a2-cfd1-deecc035af01"
      },
      "execution_count": null,
      "outputs": [
        {
          "output_type": "stream",
          "name": "stdout",
          "text": [
            "                            OLS Regression Results                            \n",
            "==============================================================================\n",
            "Dep. Variable:                      Y   R-squared:                       0.505\n",
            "Model:                            OLS   Adj. R-squared:                  0.463\n",
            "Method:                 Least Squares   F-statistic:                     12.22\n",
            "Date:                Wed, 02 Apr 2025   Prob (F-statistic):           3.50e-08\n",
            "Time:                        01:40:43   Log-Likelihood:                -90.089\n",
            "No. Observations:                  66   AIC:                             192.2\n",
            "Df Residuals:                      60   BIC:                             205.3\n",
            "Df Model:                           5                                         \n",
            "Covariance Type:            nonrobust                                         \n",
            "==============================================================================\n",
            "                 coef    std err          t      P>|t|      [0.025      0.975]\n",
            "------------------------------------------------------------------------------\n",
            "const          1.4333      2.067      0.693      0.491      -2.702       5.569\n",
            "x1             0.2820      0.109      2.576      0.012       0.063       0.501\n",
            "x2            -0.0252      0.037     -0.681      0.498      -0.099       0.049\n",
            "x3             0.0521      0.017      2.982      0.004       0.017       0.087\n",
            "x4             0.0014      0.009      0.169      0.867      -0.016       0.019\n",
            "x5             0.0027      0.001      3.266      0.002       0.001       0.004\n",
            "==============================================================================\n",
            "Omnibus:                        2.174   Durbin-Watson:                   2.183\n",
            "Prob(Omnibus):                  0.337   Jarque-Bera (JB):                2.092\n",
            "Skew:                           0.418   Prob(JB):                        0.351\n",
            "Kurtosis:                       2.751   Cond. No.                     5.18e+03\n",
            "==============================================================================\n",
            "\n",
            "Notes:\n",
            "[1] Standard Errors assume that the covariance matrix of the errors is correctly specified.\n",
            "[2] The condition number is large, 5.18e+03. This might indicate that there are\n",
            "strong multicollinearity or other numerical problems.\n"
          ]
        }
      ]
    },
    {
      "cell_type": "markdown",
      "source": [
        "Se realiza la eliminación de los puntos influyentes hayados para evaluar su impacto en los coeficientes."
      ],
      "metadata": {
        "id": "TgaHYs6Ihzbp"
      }
    },
    {
      "cell_type": "code",
      "source": [
        "indices_a_eliminar = [4, 9, 14, 25, 28, 73]\n",
        "\n",
        "df_filtrado = df.drop(indices_a_eliminar)\n",
        "\n",
        "x = df_filtrado[['X1','X2','X3','X4','X5']].values\n",
        "y = df_filtrado['Y']\n",
        "\n",
        "X = sm.add_constant(x)\n",
        "modeloinf = sm.OLS(y, X)\n",
        "resultadosinf = modeloinf.fit()\n",
        "print(resultadosinf.summary())"
      ],
      "metadata": {
        "colab": {
          "base_uri": "https://localhost:8080/"
        },
        "id": "OurWTS56Jq2-",
        "outputId": "4c714c00-d42a-4926-9b2d-7bc13a26c290"
      },
      "execution_count": null,
      "outputs": [
        {
          "output_type": "stream",
          "name": "stdout",
          "text": [
            "                            OLS Regression Results                            \n",
            "==============================================================================\n",
            "Dep. Variable:                      Y   R-squared:                       0.505\n",
            "Model:                            OLS   Adj. R-squared:                  0.465\n",
            "Method:                 Least Squares   F-statistic:                     12.63\n",
            "Date:                Wed, 02 Apr 2025   Prob (F-statistic):           1.81e-08\n",
            "Time:                        01:40:43   Log-Likelihood:                -90.507\n",
            "No. Observations:                  68   AIC:                             193.0\n",
            "Df Residuals:                      62   BIC:                             206.3\n",
            "Df Model:                           5                                         \n",
            "Covariance Type:            nonrobust                                         \n",
            "==============================================================================\n",
            "                 coef    std err          t      P>|t|      [0.025      0.975]\n",
            "------------------------------------------------------------------------------\n",
            "const          1.1627      1.668      0.697      0.488      -2.171       4.497\n",
            "x1             0.3058      0.105      2.914      0.005       0.096       0.516\n",
            "x2            -0.0237      0.031     -0.758      0.452      -0.086       0.039\n",
            "x3             0.0521      0.016      3.178      0.002       0.019       0.085\n",
            "x4             0.0022      0.008      0.283      0.778      -0.013       0.018\n",
            "x5             0.0021      0.001      2.804      0.007       0.001       0.004\n",
            "==============================================================================\n",
            "Omnibus:                        1.674   Durbin-Watson:                   2.221\n",
            "Prob(Omnibus):                  0.433   Jarque-Bera (JB):                1.648\n",
            "Skew:                           0.357   Prob(JB):                        0.439\n",
            "Kurtosis:                       2.733   Cond. No.                     4.53e+03\n",
            "==============================================================================\n",
            "\n",
            "Notes:\n",
            "[1] Standard Errors assume that the covariance matrix of the errors is correctly specified.\n",
            "[2] The condition number is large, 4.53e+03. This might indicate that there are\n",
            "strong multicollinearity or other numerical problems.\n"
          ]
        }
      ]
    },
    {
      "cell_type": "markdown",
      "source": [
        "Se calcula en MSE para los tres modelos realizados:\n",
        "\n",
        "- Modelo_original: Incluye todas las variables y todas las observaciones.\n",
        "- Modelo_pb: Incluye todas las variables y se eliminan todas las observaciones correspondientes a puntos de balanceo.\n",
        "- Modelo_inf: Incluye todas las variables y se elimina todas las observaciones correspondientes a puntos influyentes."
      ],
      "metadata": {
        "id": "E_K1w9G3iF1x"
      }
    },
    {
      "cell_type": "code",
      "source": [
        "mse_modelo_original = resultados.mse_resid\n",
        "print(\"MSE del modelo original:\", mse_modelo_original)\n",
        "\n",
        "mse_modelo_pb = resultadospb.mse_resid\n",
        "print(\"MSE del modelo con puntos de balanceo eliminados:\", mse_modelo_pb)\n",
        "\n",
        "mse_modelo_inf = resultadosinf.mse_resid\n",
        "print(\"MSE del modelo con observaciones influyentes eliminadas:\", mse_modelo_inf)\n"
      ],
      "metadata": {
        "colab": {
          "base_uri": "https://localhost:8080/"
        },
        "id": "D8XMAJwnKQWf",
        "outputId": "9e2163b7-79c7-4637-b260-1e3b3bcda641"
      },
      "execution_count": null,
      "outputs": [
        {
          "output_type": "stream",
          "name": "stdout",
          "text": [
            "MSE del modelo original: 1.0883103438001405\n",
            "MSE del modelo con puntos de balanceo eliminados: 0.9874823320484573\n",
            "MSE del modelo con observaciones influyentes eliminadas: 0.9198735988987411\n"
          ]
        }
      ]
    },
    {
      "cell_type": "markdown",
      "source": [
        "**Análisis**:\n",
        "\n",
        "De acuerdo con los resultados obtenidos a partir de los modelos de ajuste lineal, al eliminar los puntos de balanceo y las observaciones influyentes, se  obteniene un menor MSE en el modelo. Sin embargo, al eliminar los puntos influyentes, se logra un modelo más ajustado, lo que facilita la realización de predicciones más precisas del riesgo de infección (Y).\n",
        "\n"
      ],
      "metadata": {
        "id": "UzpXFqs4KlAN"
      }
    },
    {
      "cell_type": "markdown",
      "source": [
        "**3. Seleccione el mejor modelo manualmente**\n",
        "\n"
      ],
      "metadata": {
        "id": "dNH4_QAxNIbl"
      }
    },
    {
      "cell_type": "markdown",
      "source": [
        "Calculo de R², R² ajustado, MSE y CP:"
      ],
      "metadata": {
        "id": "lLmo83byiwmp"
      }
    },
    {
      "cell_type": "code",
      "source": [
        "from itertools import combinations\n",
        "data = pd.DataFrame(df)\n",
        "ols = smf.ols('Y~X1+X2+X3+X4+X5', data=data)\n",
        "results = ols.fit()\n",
        "\n",
        "def calcular_metricas_combinaciones(data, variable_dependiente, variables_independientes):\n",
        "\n",
        "    resultados = []\n",
        "    modelo_full = smf.ols(f\"{variable_dependiente} ~ {' + '.join(variables_independientes)}\", data=data).fit()\n",
        "    mse_full = modelo_full.mse_resid\n",
        "\n",
        "    # Generar todas las combinaciones posibles\n",
        "    for k in range(1, len(variables_independientes) + 1):\n",
        "        for combo in combinations(variables_independientes, k):\n",
        "            formula = f\"{variable_dependiente} ~ {' + '.join(combo)}\"\n",
        "            modelo = smf.ols(formula, data=data).fit()\n",
        "\n",
        "\n",
        "            n = len(data)  # Número de observaciones\n",
        "            p = len(combo) + 1  # Número de coeficientes\n",
        "\n",
        "            sse_p = modelo.ssr  # Suma de cuadrados de los residuos (SSE)\n",
        "            r2 = modelo.rsquared\n",
        "            r2_ajustado = modelo.rsquared_adj\n",
        "            mse_modelo = modelo.mse_resid  # MSE del modelo actual\n",
        "\n",
        "            # Criterio de Mallows (Cp)\n",
        "            cp = (sse_p / mse_full) - (n - (2 * p))\n",
        "\n",
        "            resultados.append({\n",
        "                'combinacion': ', '.join(combo),\n",
        "                'n_variables': p - 1,  # Excluye el intercepto\n",
        "                'r2': r2,\n",
        "                'r2_ajustado': r2_ajustado,\n",
        "                'mse': mse_modelo,\n",
        "                'cp': cp\n",
        "            })\n",
        "\n",
        "    df_resultados = pd.DataFrame(resultados)\n",
        "    df_resultados = df_resultados.sort_values(by='cp')\n",
        "\n",
        "    return df_resultados\n",
        "\n",
        "\n",
        "# Variables del modelo\n",
        "variable_dependiente = 'Y'\n",
        "variables_independientes = ['X1', 'X2', 'X3', 'X4','X5']\n",
        "\n",
        "# Calcular métricas para todas las combinaciones\n",
        "resultados = calcular_metricas_combinaciones(df, variable_dependiente, variables_independientes)\n",
        "\n",
        "# Mostrar las 5 mejores combinaciones según Cp\n",
        "print(resultados)"
      ],
      "metadata": {
        "colab": {
          "base_uri": "https://localhost:8080/"
        },
        "id": "mHDSM1dJOYVd",
        "outputId": "83692143-c666-4b51-caa2-b644647e5b63"
      },
      "execution_count": null,
      "outputs": [
        {
          "output_type": "stream",
          "name": "stdout",
          "text": [
            "           combinacion  n_variables        r2  r2_ajustado       mse  \\\n",
            "19          X1, X3, X5            3  0.482472     0.460292  1.067982   \n",
            "28      X1, X3, X4, X5            4  0.487683     0.457983  1.072551   \n",
            "26      X1, X2, X3, X5            4  0.482475     0.452474  1.083453   \n",
            "30  X1, X2, X3, X4, X5            5  0.487689     0.450019  1.088310   \n",
            "6               X1, X3            2  0.438465     0.422648  1.142474   \n",
            "15          X1, X2, X3            3  0.440675     0.416704  1.154235   \n",
            "18          X1, X3, X4            3  0.440564     0.416589  1.154464   \n",
            "25      X1, X2, X3, X4            4  0.442928     0.410634  1.166247   \n",
            "24          X3, X4, X5            3  0.410084     0.384802  1.217363   \n",
            "29      X2, X3, X4, X5            4  0.418318     0.384598  1.217767   \n",
            "20          X1, X4, X5            3  0.397759     0.371949  1.242797   \n",
            "27      X1, X2, X4, X5            4  0.410674     0.376510  1.233772   \n",
            "22          X2, X3, X5            3  0.381352     0.354838  1.276656   \n",
            "13              X3, X5            2  0.366072     0.348215  1.289763   \n",
            "17          X1, X2, X5            3  0.372208     0.345303  1.295525   \n",
            "8               X1, X5            2  0.350624     0.332332  1.321191   \n",
            "16          X1, X2, X4            3  0.365128     0.337919  1.310137   \n",
            "7               X1, X4            2  0.337014     0.318338  1.348883   \n",
            "5               X1, X2            2  0.336021     0.317318  1.350902   \n",
            "0                   X1            1  0.298937     0.289200  1.406542   \n",
            "14              X4, X5            2  0.313974     0.294649  1.395759   \n",
            "12              X3, X4            2  0.308581     0.289104  1.406732   \n",
            "23          X2, X4, X5            3  0.314419     0.285037  1.414780   \n",
            "21          X2, X3, X4            3  0.311743     0.282246  1.420302   \n",
            "2                   X3            1  0.263392     0.253161  1.477856   \n",
            "9               X2, X3            2  0.271429     0.250906  1.482319   \n",
            "3                   X4            1  0.187838     0.176558  1.629440   \n",
            "10              X2, X4            2  0.192741     0.170001  1.642414   \n",
            "4                   X5            1  0.148125     0.136293  1.709116   \n",
            "11              X2, X5            2  0.148766     0.124788  1.731883   \n",
            "1                   X2            1  0.006199    -0.007604  1.993863   \n",
            "\n",
            "           cp  \n",
            "19   2.692503  \n",
            "28   4.000825  \n",
            "26   4.692022  \n",
            "30   6.000000  \n",
            "6    6.533562  \n",
            "15   8.240242  \n",
            "18   8.254967  \n",
            "25   9.941262  \n",
            "24  12.300632  \n",
            "29  13.207705  \n",
            "20  13.936579  \n",
            "27  14.222390  \n",
            "22  16.114365  \n",
            "13  16.142500  \n",
            "17  17.328005  \n",
            "8   18.192861  \n",
            "16  18.267839  \n",
            "7   19.999451  \n",
            "5   20.131162  \n",
            "0   23.053463  \n",
            "14  23.057573  \n",
            "12  23.773405  \n",
            "23  24.998512  \n",
            "21  25.353687  \n",
            "2   27.771382  \n",
            "9   28.704612  \n",
            "3   37.799849  \n",
            "10  39.149041  \n",
            "4   43.071035  \n",
            "11  44.985853  \n",
            "1   61.909169  \n"
          ]
        }
      ]
    },
    {
      "cell_type": "markdown",
      "source": [
        "Se confirma que el modelo seleccionado manualmente coincide con el obtenido mediante el método de reducción de variables Backward."
      ],
      "metadata": {
        "id": "TYRyp8BRKYGM"
      }
    },
    {
      "cell_type": "code",
      "source": [
        "import pandas as pd\n",
        "from sklearn.linear_model import LinearRegression\n",
        "from sklearn.feature_selection import SequentialFeatureSelector\n",
        "from sklearn.metrics import mean_squared_error\n",
        "\n",
        "X = df.drop(columns='Y')  # Variables independientes\n",
        "y = df['Y']  # Variable dependiente\n",
        "\n",
        "# Inicializar el modelo de regresión lineal\n",
        "model = LinearRegression()\n",
        "\n",
        "# Usar la selección secuencial de características (Forward Selection en este caso)\n",
        "sfs = SequentialFeatureSelector(model, n_features_to_select='auto', direction='backward', scoring='neg_mean_squared_error')\n",
        "\n",
        "# Ajustar el modelo a todo el conjunto de datos\n",
        "sfs.fit(X, y)\n",
        "\n",
        "# Mostrar las características seleccionadas\n",
        "selected_features = X.columns[sfs.get_support()]\n",
        "print(f\"Características seleccionadas: {selected_features}\")\n",
        "\n",
        "# Crear un nuevo conjunto de datos con las características seleccionadas\n",
        "X_selected = X[selected_features]\n",
        "\n",
        "# Ajustar el modelo de regresión lineal en las características seleccionadas\n",
        "model.fit(X_selected, y)\n",
        "\n",
        "# Predecir sobre el conjunto de datos utilizando las características seleccionadas\n",
        "y_pred = model.predict(X_selected)\n",
        "\n",
        "# Calcular el MSE en el conjunto de datos completo\n",
        "mse = mean_squared_error(y, y_pred)\n",
        "print(f\"MSE del modelo con las características seleccionadas: {mse}\")"
      ],
      "metadata": {
        "colab": {
          "base_uri": "https://localhost:8080/"
        },
        "id": "2YtY72SpJP5w",
        "outputId": "3f4a8661-b447-4068-b779-ea86d08aad7a"
      },
      "execution_count": null,
      "outputs": [
        {
          "output_type": "stream",
          "name": "stdout",
          "text": [
            "Características seleccionadas: Index(['X1', 'X3', 'X5'], dtype='object')\n",
            "MSE del modelo con las características seleccionadas: 1.0102535312254184\n"
          ]
        }
      ]
    },
    {
      "cell_type": "markdown",
      "source": [
        "**Análisis**:\n",
        "\n",
        "De acuerdo con los valores de R², R² ajustado, MSE y CP obtenidos, se selecciona el modelo compuesto por las variables X1, X3, X5 ya que presentan el mejor R² ajustado y el menor MSE y Cp. Además, a partir de la evaluación de multicolinealidad en el taller anterior se identifica que no hay problemas de multicolinealidad entre las variables."
      ],
      "metadata": {
        "id": "ZirFk9vUQqLX"
      }
    },
    {
      "cell_type": "markdown",
      "source": [
        "**4. Realice la validación de los supuestos**"
      ],
      "metadata": {
        "id": "7KuMhQk5RF6x"
      }
    },
    {
      "cell_type": "code",
      "source": [
        "x = df[['X1', 'X3' ,'X5']].values\n",
        "y = df['Y']\n",
        "\n",
        "X = sm.add_constant(x)\n",
        "\n",
        "modelo = sm.OLS(y, X)\n",
        "resultados = modelo.fit()\n",
        "\n",
        "'1) Independencia:'\n",
        "\n",
        "from statsmodels.stats.stattools import durbin_watson\n",
        "\n",
        "# Calcular el estadístico de Durbin-Watson\n",
        "dw = durbin_watson(resultados.resid)\n",
        "\n",
        "# Imprimir el resultado del Durbin-Watson\n",
        "print(f\"Estadístico de Durbin-Watson: {dw}\")\n",
        "\n",
        "if dw < 1.5:\n",
        "    print(\"Posible autocorrelación positiva (residuos correlacionados positivamente).\")\n",
        "elif dw > 2.5:\n",
        "    print(\"Posible autocorrelación negativa (residuos correlacionados negativamente).\")\n",
        "else:\n",
        "    print(\"No hay autocorrelación (los residuos son independientes).\")"
      ],
      "metadata": {
        "colab": {
          "base_uri": "https://localhost:8080/"
        },
        "id": "qF2-9d90RTGm",
        "outputId": "607a038e-25ad-4a11-b62e-564a89b6e476"
      },
      "execution_count": null,
      "outputs": [
        {
          "output_type": "stream",
          "name": "stdout",
          "text": [
            "Estadístico de Durbin-Watson: 2.059315081937764\n",
            "No hay autocorrelación (los residuos son independientes).\n"
          ]
        }
      ]
    },
    {
      "cell_type": "code",
      "source": [
        "# Grafico de correlación\n",
        "Y_pred = resultados.predict(X)\n",
        "errores = y - Y_pred\n",
        "errores_estandarizados = (errores - np.mean(errores)) / np.std(errores)\n",
        "plt.figure(figsize=(8, 6))\n",
        "plt.plot(np.arange(len(errores_estandarizados)), errores_estandarizados, label='Errores estandarizados')\n",
        "plt.axhline(y=0, color='r', linestyle='--')  # Línea en y=0 para referencia\n",
        "plt.title('Grafico de correlación')\n",
        "plt.xlabel('Orden de ejecucion')\n",
        "plt.ylabel('Errores Estandarizados')\n",
        "plt.legend()\n",
        "plt.grid(True)\n",
        "plt.show()"
      ],
      "metadata": {
        "colab": {
          "base_uri": "https://localhost:8080/",
          "height": 564
        },
        "id": "JzikO3wORd6O",
        "outputId": "805f2f96-d73b-4bbe-df56-34d6667a4fd5"
      },
      "execution_count": null,
      "outputs": [
        {
          "output_type": "display_data",
          "data": {
            "text/plain": [
              "<Figure size 800x600 with 1 Axes>"
            ],
            "image/png": "[encoded data removed]"
          },
          "metadata": {}
        }
      ]
    },
    {
      "cell_type": "markdown",
      "source": [
        "Se concluye grafica y cuantitativamente que los datos cumplen con el supuesto de independiencia."
      ],
      "metadata": {
        "id": "TrtFPbS6BX-T"
      }
    },
    {
      "cell_type": "code",
      "source": [
        "'2) Normalidad:'\n",
        "\n",
        "#Ho: Los residuos siguen una distribución normal\n",
        "#Ha: Los residuos no siguen una distribucion normal\n",
        "\n",
        "import scipy.stats as stats\n",
        "stat, p_value = stats.shapiro(resultados.resid)\n",
        "\n",
        "print(\"Estadística de Shapiro-Wilk:\", stat)\n",
        "print(\"Valor p de la prueba de Shapiro-Wilk:\", p_value)\n",
        "\n",
        "alpha = 0.05\n",
        "if p_value <= alpha:\n",
        "    print(\"Rechazamos la hipótesis nula\")\n",
        "else:\n",
        "    print(\"No podemos rechazar la hipótesis nula\")"
      ],
      "metadata": {
        "colab": {
          "base_uri": "https://localhost:8080/"
        },
        "id": "XEgHHMF3RyHY",
        "outputId": "fae7dc9f-0151-48a0-8109-c7dc5498f180"
      },
      "execution_count": null,
      "outputs": [
        {
          "output_type": "stream",
          "name": "stdout",
          "text": [
            "Estadística de Shapiro-Wilk: 0.9904239584245513\n",
            "Valor p de la prueba de Shapiro-Wilk: 0.8541784364447957\n",
            "No podemos rechazar la hipótesis nula\n"
          ]
        }
      ]
    },
    {
      "cell_type": "code",
      "source": [
        "# Grafico Q'Q\n",
        "fig = plt.figure(figsize=(8, 6))\n",
        "sm.qqplot(errores_estandarizados, line='45')\n",
        "plt.title('Gráfico Q-Q de los Errores')\n",
        "plt.show()"
      ],
      "metadata": {
        "colab": {
          "base_uri": "https://localhost:8080/",
          "height": 489
        },
        "id": "u5QnoKKvR5ft",
        "outputId": "2d499f19-c724-433c-94a7-bb5064512d38"
      },
      "execution_count": null,
      "outputs": [
        {
          "output_type": "display_data",
          "data": {
            "text/plain": [
              "<Figure size 800x600 with 0 Axes>"
            ]
          },
          "metadata": {}
        },
        {
          "output_type": "display_data",
          "data": {
            "text/plain": [
              "<Figure size 640x480 with 1 Axes>"
            ],
            "image/png": "[encoded data removed]"
          },
          "metadata": {}
        }
      ]
    },
    {
      "cell_type": "markdown",
      "source": [
        "Se concluye grafica y cuantitativamente que los datos provienen de una distribución normal."
      ],
      "metadata": {
        "id": "ngMVuApILbtL"
      }
    },
    {
      "cell_type": "code",
      "source": [
        "'3) Varianza Constante'\n",
        "\n",
        "from statsmodels.stats.diagnostic import het_breuschpagan\n",
        "\n",
        "test_bpg = het_breuschpagan(resultados.resid, X)\n",
        "print(f\"Estadístico de Breusch-Pagan: {test_bpg[0]}\")\n",
        "print(f\"P-valor de Breusch-Pagan: {test_bpg[1]}\")\n",
        "\n",
        "if test_bpg[1] <alpha:\n",
        "    print(\"Hay evidencia de heterocedasticidad (varianza no constante).\")\n",
        "else:\n",
        "    print(\"No hay evidencia de heterocedasticidad (varianza constante).\")"
      ],
      "metadata": {
        "colab": {
          "base_uri": "https://localhost:8080/"
        },
        "id": "uUq9kv2mR_Ym",
        "outputId": "93999541-5e43-4548-b897-c121bf5c2542"
      },
      "execution_count": null,
      "outputs": [
        {
          "output_type": "stream",
          "name": "stdout",
          "text": [
            "Estadístico de Breusch-Pagan: 1.973749097821551\n",
            "P-valor de Breusch-Pagan: 0.5778730160907568\n",
            "No hay evidencia de heterocedasticidad (varianza constante).\n"
          ]
        }
      ]
    },
    {
      "cell_type": "code",
      "source": [
        "'4) Linealidad'\n",
        "Y_ajustados = resultados.fittedvalues\n",
        "\n",
        "plt.figure(figsize=(8, 6))\n",
        "plt.scatter(Y_ajustados, errores_estandarizados, color='blue', label='Residuos estandarizados')\n",
        "plt.axhline(0, color='red', linestyle='--')  # Línea en y=0 para referencia\n",
        "plt.title('Gráfico de dispersión entre Y ajustados y residuos estandarizados')\n",
        "plt.xlabel('Valores Ajustados (Y)')\n",
        "plt.ylabel('Residuos Estandarizados')\n",
        "plt.legend()\n",
        "plt.grid(True)\n",
        "plt.show()"
      ],
      "metadata": {
        "colab": {
          "base_uri": "https://localhost:8080/",
          "height": 565
        },
        "id": "P8hI6N8uSAFW",
        "outputId": "0bab68cb-68b3-4aeb-c6e5-e4801085bd9f"
      },
      "execution_count": null,
      "outputs": [
        {
          "output_type": "display_data",
          "data": {
            "text/plain": [
              "<Figure size 800x600 with 1 Axes>"
            ],
            "image/png": "[encoded data removed]"
          },
          "metadata": {}
        }
      ]
    },
    {
      "cell_type": "markdown",
      "source": [
        "Se validan los supuestos de linealidad y varianza constante de manera grafica y con la prueba Breusch-Pagan"
      ],
      "metadata": {
        "id": "D6VK4hfILnrL"
      }
    },
    {
      "cell_type": "markdown",
      "source": [
        "**Análisis**:\n",
        "A partir de la validación de supuestos se puede concluir que el modelo de regresión lineal seleccionado (Incluye X1, X3, X5) es apropiado y los resultados obtenidos son válidos ya que los residuos cumplen independencia, normalidad, varianza constante y linealidad."
      ],
      "metadata": {
        "id": "N83hffxhSGGG"
      }
    }
  ]
}